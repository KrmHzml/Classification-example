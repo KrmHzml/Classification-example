{
 "cells": [
  {
   "cell_type": "markdown",
   "id": "5a1f5a5d",
   "metadata": {
    "papermill": {
     "duration": 0.031629,
     "end_time": "2023-03-19T15:29:52.239683",
     "exception": false,
     "start_time": "2023-03-19T15:29:52.208054",
     "status": "completed"
    },
    "tags": []
   },
   "source": [
    "The purpose of this dataset is to find out the prediction of  whether the passengers are dead or alive.\n",
    "\n",
    "https://www.kaggle.com/c/titanic"
   ]
  },
  {
   "cell_type": "markdown",
   "id": "95a1cc88",
   "metadata": {
    "papermill": {
     "duration": 0.028044,
     "end_time": "2023-03-19T15:29:52.295874",
     "exception": false,
     "start_time": "2023-03-19T15:29:52.267830",
     "status": "completed"
    },
    "tags": []
   },
   "source": [
    "## 1-Libraries"
   ]
  },
  {
   "cell_type": "code",
   "execution_count": 1,
   "id": "92acd24b",
   "metadata": {
    "execution": {
     "iopub.execute_input": "2023-03-19T15:29:52.353578Z",
     "iopub.status.busy": "2023-03-19T15:29:52.352791Z",
     "iopub.status.idle": "2023-03-19T15:29:53.537164Z",
     "shell.execute_reply": "2023-03-19T15:29:53.535582Z"
    },
    "papermill": {
     "duration": 1.216672,
     "end_time": "2023-03-19T15:29:53.540285",
     "exception": false,
     "start_time": "2023-03-19T15:29:52.323613",
     "status": "completed"
    },
    "tags": []
   },
   "outputs": [],
   "source": [
    "# data analysis and wrangling\n",
    "import numpy as np\n",
    "import pandas as pd\n",
    "\n",
    "# visualization\n",
    "import matplotlib.pyplot as plt\n",
    "import seaborn as sns\n",
    "\n",
    "#ignore warnings\n",
    "import warnings\n",
    "warnings.filterwarnings(\"ignore\")\n"
   ]
  },
  {
   "cell_type": "markdown",
   "id": "8db5f0a4",
   "metadata": {
    "papermill": {
     "duration": 0.028671,
     "end_time": "2023-03-19T15:29:53.596571",
     "exception": false,
     "start_time": "2023-03-19T15:29:53.567900",
     "status": "completed"
    },
    "tags": []
   },
   "source": [
    "## 2-Data Set"
   ]
  },
  {
   "cell_type": "markdown",
   "id": "689d3cd0",
   "metadata": {
    "papermill": {
     "duration": 0.026801,
     "end_time": "2023-03-19T15:29:53.651275",
     "exception": false,
     "start_time": "2023-03-19T15:29:53.624474",
     "status": "completed"
    },
    "tags": []
   },
   "source": [
    "This test data is not the data on which we will construct model.\n",
    "\n",
    "The test data is used to test our prediction is true or false\n",
    "\n",
    "So,We will construct our models on train data \n",
    "\n",
    "After construct our model ,we are going to looking at which model is the best one.\n",
    "\n",
    "And using the model we will make prediction on test data"
   ]
  },
  {
   "cell_type": "code",
   "execution_count": 2,
   "id": "4491b173",
   "metadata": {
    "execution": {
     "iopub.execute_input": "2023-03-19T15:29:53.708437Z",
     "iopub.status.busy": "2023-03-19T15:29:53.707676Z",
     "iopub.status.idle": "2023-03-19T15:29:53.746423Z",
     "shell.execute_reply": "2023-03-19T15:29:53.745071Z"
    },
    "papermill": {
     "duration": 0.070964,
     "end_time": "2023-03-19T15:29:53.749412",
     "exception": false,
     "start_time": "2023-03-19T15:29:53.678448",
     "status": "completed"
    },
    "tags": []
   },
   "outputs": [],
   "source": [
    "#import train_data and test_data\n",
    "train_data=pd.read_csv(\"/kaggle/input/titanic/train.csv\")\n",
    "test_data=pd.read_csv(\"/kaggle/input/titanic/test.csv\")\n",
    "graph_data=pd.read_csv(\"/kaggle/input/titanic/train.csv\")\n",
    "test_data_forfinal=pd.read_csv(\"/kaggle/input/titanic/test.csv\")"
   ]
  },
  {
   "cell_type": "code",
   "execution_count": 3,
   "id": "a578fbad",
   "metadata": {
    "execution": {
     "iopub.execute_input": "2023-03-19T15:29:53.806450Z",
     "iopub.status.busy": "2023-03-19T15:29:53.805986Z",
     "iopub.status.idle": "2023-03-19T15:29:53.837945Z",
     "shell.execute_reply": "2023-03-19T15:29:53.836653Z"
    },
    "papermill": {
     "duration": 0.064482,
     "end_time": "2023-03-19T15:29:53.841507",
     "exception": false,
     "start_time": "2023-03-19T15:29:53.777025",
     "status": "completed"
    },
    "tags": []
   },
   "outputs": [
    {
     "data": {
      "text/html": [
       "<div>\n",
       "<style scoped>\n",
       "    .dataframe tbody tr th:only-of-type {\n",
       "        vertical-align: middle;\n",
       "    }\n",
       "\n",
       "    .dataframe tbody tr th {\n",
       "        vertical-align: top;\n",
       "    }\n",
       "\n",
       "    .dataframe thead th {\n",
       "        text-align: right;\n",
       "    }\n",
       "</style>\n",
       "<table border=\"1\" class=\"dataframe\">\n",
       "  <thead>\n",
       "    <tr style=\"text-align: right;\">\n",
       "      <th></th>\n",
       "      <th>PassengerId</th>\n",
       "      <th>Survived</th>\n",
       "      <th>Pclass</th>\n",
       "      <th>Name</th>\n",
       "      <th>Sex</th>\n",
       "      <th>Age</th>\n",
       "      <th>SibSp</th>\n",
       "      <th>Parch</th>\n",
       "      <th>Ticket</th>\n",
       "      <th>Fare</th>\n",
       "      <th>Cabin</th>\n",
       "      <th>Embarked</th>\n",
       "    </tr>\n",
       "  </thead>\n",
       "  <tbody>\n",
       "    <tr>\n",
       "      <th>0</th>\n",
       "      <td>1</td>\n",
       "      <td>0</td>\n",
       "      <td>3</td>\n",
       "      <td>Braund, Mr. Owen Harris</td>\n",
       "      <td>male</td>\n",
       "      <td>22.0</td>\n",
       "      <td>1</td>\n",
       "      <td>0</td>\n",
       "      <td>A/5 21171</td>\n",
       "      <td>7.2500</td>\n",
       "      <td>NaN</td>\n",
       "      <td>S</td>\n",
       "    </tr>\n",
       "    <tr>\n",
       "      <th>1</th>\n",
       "      <td>2</td>\n",
       "      <td>1</td>\n",
       "      <td>1</td>\n",
       "      <td>Cumings, Mrs. John Bradley (Florence Briggs Th...</td>\n",
       "      <td>female</td>\n",
       "      <td>38.0</td>\n",
       "      <td>1</td>\n",
       "      <td>0</td>\n",
       "      <td>PC 17599</td>\n",
       "      <td>71.2833</td>\n",
       "      <td>C85</td>\n",
       "      <td>C</td>\n",
       "    </tr>\n",
       "    <tr>\n",
       "      <th>2</th>\n",
       "      <td>3</td>\n",
       "      <td>1</td>\n",
       "      <td>3</td>\n",
       "      <td>Heikkinen, Miss. Laina</td>\n",
       "      <td>female</td>\n",
       "      <td>26.0</td>\n",
       "      <td>0</td>\n",
       "      <td>0</td>\n",
       "      <td>STON/O2. 3101282</td>\n",
       "      <td>7.9250</td>\n",
       "      <td>NaN</td>\n",
       "      <td>S</td>\n",
       "    </tr>\n",
       "    <tr>\n",
       "      <th>3</th>\n",
       "      <td>4</td>\n",
       "      <td>1</td>\n",
       "      <td>1</td>\n",
       "      <td>Futrelle, Mrs. Jacques Heath (Lily May Peel)</td>\n",
       "      <td>female</td>\n",
       "      <td>35.0</td>\n",
       "      <td>1</td>\n",
       "      <td>0</td>\n",
       "      <td>113803</td>\n",
       "      <td>53.1000</td>\n",
       "      <td>C123</td>\n",
       "      <td>S</td>\n",
       "    </tr>\n",
       "    <tr>\n",
       "      <th>4</th>\n",
       "      <td>5</td>\n",
       "      <td>0</td>\n",
       "      <td>3</td>\n",
       "      <td>Allen, Mr. William Henry</td>\n",
       "      <td>male</td>\n",
       "      <td>35.0</td>\n",
       "      <td>0</td>\n",
       "      <td>0</td>\n",
       "      <td>373450</td>\n",
       "      <td>8.0500</td>\n",
       "      <td>NaN</td>\n",
       "      <td>S</td>\n",
       "    </tr>\n",
       "  </tbody>\n",
       "</table>\n",
       "</div>"
      ],
      "text/plain": [
       "   PassengerId  Survived  Pclass  \\\n",
       "0            1         0       3   \n",
       "1            2         1       1   \n",
       "2            3         1       3   \n",
       "3            4         1       1   \n",
       "4            5         0       3   \n",
       "\n",
       "                                                Name     Sex   Age  SibSp  \\\n",
       "0                            Braund, Mr. Owen Harris    male  22.0      1   \n",
       "1  Cumings, Mrs. John Bradley (Florence Briggs Th...  female  38.0      1   \n",
       "2                             Heikkinen, Miss. Laina  female  26.0      0   \n",
       "3       Futrelle, Mrs. Jacques Heath (Lily May Peel)  female  35.0      1   \n",
       "4                           Allen, Mr. William Henry    male  35.0      0   \n",
       "\n",
       "   Parch            Ticket     Fare Cabin Embarked  \n",
       "0      0         A/5 21171   7.2500   NaN        S  \n",
       "1      0          PC 17599  71.2833   C85        C  \n",
       "2      0  STON/O2. 3101282   7.9250   NaN        S  \n",
       "3      0            113803  53.1000  C123        S  \n",
       "4      0            373450   8.0500   NaN        S  "
      ]
     },
     "execution_count": 3,
     "metadata": {},
     "output_type": "execute_result"
    }
   ],
   "source": [
    "#preview train_data\n",
    "train_data.head()"
   ]
  },
  {
   "cell_type": "code",
   "execution_count": 4,
   "id": "03ef590d",
   "metadata": {
    "execution": {
     "iopub.execute_input": "2023-03-19T15:29:53.898837Z",
     "iopub.status.busy": "2023-03-19T15:29:53.897995Z",
     "iopub.status.idle": "2023-03-19T15:29:53.915012Z",
     "shell.execute_reply": "2023-03-19T15:29:53.913823Z"
    },
    "papermill": {
     "duration": 0.04874,
     "end_time": "2023-03-19T15:29:53.917745",
     "exception": false,
     "start_time": "2023-03-19T15:29:53.869005",
     "status": "completed"
    },
    "tags": []
   },
   "outputs": [
    {
     "data": {
      "text/html": [
       "<div>\n",
       "<style scoped>\n",
       "    .dataframe tbody tr th:only-of-type {\n",
       "        vertical-align: middle;\n",
       "    }\n",
       "\n",
       "    .dataframe tbody tr th {\n",
       "        vertical-align: top;\n",
       "    }\n",
       "\n",
       "    .dataframe thead th {\n",
       "        text-align: right;\n",
       "    }\n",
       "</style>\n",
       "<table border=\"1\" class=\"dataframe\">\n",
       "  <thead>\n",
       "    <tr style=\"text-align: right;\">\n",
       "      <th></th>\n",
       "      <th>PassengerId</th>\n",
       "      <th>Survived</th>\n",
       "      <th>Pclass</th>\n",
       "      <th>Name</th>\n",
       "      <th>Sex</th>\n",
       "      <th>Age</th>\n",
       "      <th>SibSp</th>\n",
       "      <th>Parch</th>\n",
       "      <th>Ticket</th>\n",
       "      <th>Fare</th>\n",
       "      <th>Cabin</th>\n",
       "      <th>Embarked</th>\n",
       "    </tr>\n",
       "  </thead>\n",
       "  <tbody>\n",
       "    <tr>\n",
       "      <th>0</th>\n",
       "      <td>1</td>\n",
       "      <td>0</td>\n",
       "      <td>3</td>\n",
       "      <td>Braund, Mr. Owen Harris</td>\n",
       "      <td>male</td>\n",
       "      <td>22.0</td>\n",
       "      <td>1</td>\n",
       "      <td>0</td>\n",
       "      <td>A/5 21171</td>\n",
       "      <td>7.2500</td>\n",
       "      <td>NaN</td>\n",
       "      <td>S</td>\n",
       "    </tr>\n",
       "    <tr>\n",
       "      <th>1</th>\n",
       "      <td>2</td>\n",
       "      <td>1</td>\n",
       "      <td>1</td>\n",
       "      <td>Cumings, Mrs. John Bradley (Florence Briggs Th...</td>\n",
       "      <td>female</td>\n",
       "      <td>38.0</td>\n",
       "      <td>1</td>\n",
       "      <td>0</td>\n",
       "      <td>PC 17599</td>\n",
       "      <td>71.2833</td>\n",
       "      <td>C85</td>\n",
       "      <td>C</td>\n",
       "    </tr>\n",
       "    <tr>\n",
       "      <th>2</th>\n",
       "      <td>3</td>\n",
       "      <td>1</td>\n",
       "      <td>3</td>\n",
       "      <td>Heikkinen, Miss. Laina</td>\n",
       "      <td>female</td>\n",
       "      <td>26.0</td>\n",
       "      <td>0</td>\n",
       "      <td>0</td>\n",
       "      <td>STON/O2. 3101282</td>\n",
       "      <td>7.9250</td>\n",
       "      <td>NaN</td>\n",
       "      <td>S</td>\n",
       "    </tr>\n",
       "    <tr>\n",
       "      <th>3</th>\n",
       "      <td>4</td>\n",
       "      <td>1</td>\n",
       "      <td>1</td>\n",
       "      <td>Futrelle, Mrs. Jacques Heath (Lily May Peel)</td>\n",
       "      <td>female</td>\n",
       "      <td>35.0</td>\n",
       "      <td>1</td>\n",
       "      <td>0</td>\n",
       "      <td>113803</td>\n",
       "      <td>53.1000</td>\n",
       "      <td>C123</td>\n",
       "      <td>S</td>\n",
       "    </tr>\n",
       "    <tr>\n",
       "      <th>4</th>\n",
       "      <td>5</td>\n",
       "      <td>0</td>\n",
       "      <td>3</td>\n",
       "      <td>Allen, Mr. William Henry</td>\n",
       "      <td>male</td>\n",
       "      <td>35.0</td>\n",
       "      <td>0</td>\n",
       "      <td>0</td>\n",
       "      <td>373450</td>\n",
       "      <td>8.0500</td>\n",
       "      <td>NaN</td>\n",
       "      <td>S</td>\n",
       "    </tr>\n",
       "  </tbody>\n",
       "</table>\n",
       "</div>"
      ],
      "text/plain": [
       "   PassengerId  Survived  Pclass  \\\n",
       "0            1         0       3   \n",
       "1            2         1       1   \n",
       "2            3         1       3   \n",
       "3            4         1       1   \n",
       "4            5         0       3   \n",
       "\n",
       "                                                Name     Sex   Age  SibSp  \\\n",
       "0                            Braund, Mr. Owen Harris    male  22.0      1   \n",
       "1  Cumings, Mrs. John Bradley (Florence Briggs Th...  female  38.0      1   \n",
       "2                             Heikkinen, Miss. Laina  female  26.0      0   \n",
       "3       Futrelle, Mrs. Jacques Heath (Lily May Peel)  female  35.0      1   \n",
       "4                           Allen, Mr. William Henry    male  35.0      0   \n",
       "\n",
       "   Parch            Ticket     Fare Cabin Embarked  \n",
       "0      0         A/5 21171   7.2500   NaN        S  \n",
       "1      0          PC 17599  71.2833   C85        C  \n",
       "2      0  STON/O2. 3101282   7.9250   NaN        S  \n",
       "3      0            113803  53.1000  C123        S  \n",
       "4      0            373450   8.0500   NaN        S  "
      ]
     },
     "execution_count": 4,
     "metadata": {},
     "output_type": "execute_result"
    }
   ],
   "source": [
    "#prewiev test_data\n",
    "train_data.head()"
   ]
  },
  {
   "cell_type": "markdown",
   "id": "5a249323",
   "metadata": {
    "papermill": {
     "duration": 0.027271,
     "end_time": "2023-03-19T15:29:53.972903",
     "exception": false,
     "start_time": "2023-03-19T15:29:53.945632",
     "status": "completed"
    },
    "tags": []
   },
   "source": [
    "## Data Quality and Missing Values"
   ]
  },
  {
   "cell_type": "markdown",
   "id": "63df3eb1",
   "metadata": {
    "papermill": {
     "duration": 0.026997,
     "end_time": "2023-03-19T15:29:54.027521",
     "exception": false,
     "start_time": "2023-03-19T15:29:54.000524",
     "status": "completed"
    },
    "tags": []
   },
   "source": [
    "Everytime in a Data set,there may be missing value.\n",
    "\n",
    "For that reason,we can make:\n",
    "\n",
    "1.Dropping the columns whish have missing values<br>\n",
    "2.Filling in the missing values<br>\n",
    "* Mean\n",
    "*Median"
   ]
  },
  {
   "cell_type": "code",
   "execution_count": 5,
   "id": "a0669d44",
   "metadata": {
    "execution": {
     "iopub.execute_input": "2023-03-19T15:29:54.084324Z",
     "iopub.status.busy": "2023-03-19T15:29:54.083889Z",
     "iopub.status.idle": "2023-03-19T15:29:54.095438Z",
     "shell.execute_reply": "2023-03-19T15:29:54.094186Z"
    },
    "papermill": {
     "duration": 0.042854,
     "end_time": "2023-03-19T15:29:54.097826",
     "exception": false,
     "start_time": "2023-03-19T15:29:54.054972",
     "status": "completed"
    },
    "tags": []
   },
   "outputs": [
    {
     "data": {
      "text/plain": [
       "PassengerId      0\n",
       "Survived         0\n",
       "Pclass           0\n",
       "Name             0\n",
       "Sex              0\n",
       "Age            177\n",
       "SibSp            0\n",
       "Parch            0\n",
       "Ticket           0\n",
       "Fare             0\n",
       "Cabin          687\n",
       "Embarked         2\n",
       "dtype: int64"
      ]
     },
     "execution_count": 5,
     "metadata": {},
     "output_type": "execute_result"
    }
   ],
   "source": [
    "#looking at the missing values of the train data\n",
    "train_data.isnull().sum()"
   ]
  },
  {
   "cell_type": "code",
   "execution_count": 6,
   "id": "be2551b2",
   "metadata": {
    "execution": {
     "iopub.execute_input": "2023-03-19T15:29:54.156457Z",
     "iopub.status.busy": "2023-03-19T15:29:54.155747Z",
     "iopub.status.idle": "2023-03-19T15:29:54.165455Z",
     "shell.execute_reply": "2023-03-19T15:29:54.164395Z"
    },
    "papermill": {
     "duration": 0.041699,
     "end_time": "2023-03-19T15:29:54.167696",
     "exception": false,
     "start_time": "2023-03-19T15:29:54.125997",
     "status": "completed"
    },
    "tags": []
   },
   "outputs": [
    {
     "data": {
      "text/plain": [
       "PassengerId      0\n",
       "Pclass           0\n",
       "Name             0\n",
       "Sex              0\n",
       "Age             86\n",
       "SibSp            0\n",
       "Parch            0\n",
       "Ticket           0\n",
       "Fare             1\n",
       "Cabin          327\n",
       "Embarked         0\n",
       "dtype: int64"
      ]
     },
     "execution_count": 6,
     "metadata": {},
     "output_type": "execute_result"
    }
   ],
   "source": [
    "#looking at the missing values of the test data\n",
    "test_data.isnull().sum()"
   ]
  },
  {
   "cell_type": "markdown",
   "id": "ef22343d",
   "metadata": {
    "papermill": {
     "duration": 0.027465,
     "end_time": "2023-03-19T15:29:54.223166",
     "exception": false,
     "start_time": "2023-03-19T15:29:54.195701",
     "status": "completed"
    },
    "tags": []
   },
   "source": [
    "### 3.1 Age-Missing Values"
   ]
  },
  {
   "cell_type": "code",
   "execution_count": 7,
   "id": "61c00352",
   "metadata": {
    "execution": {
     "iopub.execute_input": "2023-03-19T15:29:54.282598Z",
     "iopub.status.busy": "2023-03-19T15:29:54.282152Z",
     "iopub.status.idle": "2023-03-19T15:29:54.293743Z",
     "shell.execute_reply": "2023-03-19T15:29:54.292462Z"
    },
    "papermill": {
     "duration": 0.044043,
     "end_time": "2023-03-19T15:29:54.296283",
     "exception": false,
     "start_time": "2023-03-19T15:29:54.252240",
     "status": "completed"
    },
    "tags": []
   },
   "outputs": [
    {
     "data": {
      "text/plain": [
       "19.865319865319865"
      ]
     },
     "execution_count": 7,
     "metadata": {},
     "output_type": "execute_result"
    }
   ],
   "source": [
    "# Percentage of the missing values on 'Age' columns\n",
    "train_data[\"Age\"].isnull().sum()/train_data.shape[0]*100"
   ]
  },
  {
   "cell_type": "markdown",
   "id": "08ccd47e",
   "metadata": {
    "papermill": {
     "duration": 0.027832,
     "end_time": "2023-03-19T15:29:54.352384",
     "exception": false,
     "start_time": "2023-03-19T15:29:54.324552",
     "status": "completed"
    },
    "tags": []
   },
   "source": [
    "Approximately the %20 of the  passengers' ages are missing\n",
    "\n",
    "We can handle it"
   ]
  },
  {
   "cell_type": "code",
   "execution_count": 8,
   "id": "259bef87",
   "metadata": {
    "execution": {
     "iopub.execute_input": "2023-03-19T15:29:54.410882Z",
     "iopub.status.busy": "2023-03-19T15:29:54.410041Z",
     "iopub.status.idle": "2023-03-19T15:29:54.781033Z",
     "shell.execute_reply": "2023-03-19T15:29:54.779833Z"
    },
    "papermill": {
     "duration": 0.403241,
     "end_time": "2023-03-19T15:29:54.783805",
     "exception": false,
     "start_time": "2023-03-19T15:29:54.380564",
     "status": "completed"
    },
    "tags": []
   },
   "outputs": [
    {
     "data": {
      "image/png": "[encoded data removed]",
      "text/plain": [
       "<Figure size 640x480 with 1 Axes>"
      ]
     },
     "metadata": {},
     "output_type": "display_data"
    }
   ],
   "source": [
    "ax = train_data['Age'].hist(bins=15, density=True, stacked=True, alpha=0.7)\n",
    "\n",
    "train_data['Age'].plot(kind='density')\n",
    "\n",
    "ax.set(xlabel='Age')\n",
    "plt.xlim(0, 90)\n",
    "plt.grid()\n",
    "plt.show()"
   ]
  },
  {
   "cell_type": "markdown",
   "id": "2f12db7f",
   "metadata": {
    "papermill": {
     "duration": 0.028347,
     "end_time": "2023-03-19T15:29:54.841376",
     "exception": false,
     "start_time": "2023-03-19T15:29:54.813029",
     "status": "completed"
    },
    "tags": []
   },
   "source": [
    "The histogram graph is a right-skewed(Positive Skewness).\n",
    "\n",
    "Using the median will be better"
   ]
  },
  {
   "cell_type": "code",
   "execution_count": 9,
   "id": "9b01fa38",
   "metadata": {
    "execution": {
     "iopub.execute_input": "2023-03-19T15:29:54.901058Z",
     "iopub.status.busy": "2023-03-19T15:29:54.900652Z",
     "iopub.status.idle": "2023-03-19T15:29:54.908354Z",
     "shell.execute_reply": "2023-03-19T15:29:54.907528Z"
    },
    "papermill": {
     "duration": 0.040114,
     "end_time": "2023-03-19T15:29:54.910697",
     "exception": false,
     "start_time": "2023-03-19T15:29:54.870583",
     "status": "completed"
    },
    "tags": []
   },
   "outputs": [
    {
     "data": {
      "text/plain": [
       "29.69911764705882"
      ]
     },
     "execution_count": 9,
     "metadata": {},
     "output_type": "execute_result"
    }
   ],
   "source": [
    "#Mean of the 'Age' column\n",
    "#skipna=skip the missing data\n",
    "train_data[\"Age\"].mean(skipna=True)"
   ]
  },
  {
   "cell_type": "code",
   "execution_count": 10,
   "id": "33ea3458",
   "metadata": {
    "execution": {
     "iopub.execute_input": "2023-03-19T15:29:54.971020Z",
     "iopub.status.busy": "2023-03-19T15:29:54.970176Z",
     "iopub.status.idle": "2023-03-19T15:29:54.978923Z",
     "shell.execute_reply": "2023-03-19T15:29:54.977733Z"
    },
    "papermill": {
     "duration": 0.041212,
     "end_time": "2023-03-19T15:29:54.981100",
     "exception": false,
     "start_time": "2023-03-19T15:29:54.939888",
     "status": "completed"
    },
    "tags": []
   },
   "outputs": [
    {
     "data": {
      "text/plain": [
       "28.0"
      ]
     },
     "execution_count": 10,
     "metadata": {},
     "output_type": "execute_result"
    }
   ],
   "source": [
    "#Median of the \"Age\" column\n",
    "#skipna=skip the missing data\n",
    "train_data[\"Age\"].median()"
   ]
  },
  {
   "cell_type": "markdown",
   "id": "ea0fa6eb",
   "metadata": {
    "papermill": {
     "duration": 0.028224,
     "end_time": "2023-03-19T15:29:55.038319",
     "exception": false,
     "start_time": "2023-03-19T15:29:55.010095",
     "status": "completed"
    },
    "tags": []
   },
   "source": [
    "### 3.2 Cabin-Missing Values"
   ]
  },
  {
   "cell_type": "code",
   "execution_count": 11,
   "id": "ddef3bcb",
   "metadata": {
    "execution": {
     "iopub.execute_input": "2023-03-19T15:29:55.098008Z",
     "iopub.status.busy": "2023-03-19T15:29:55.097132Z",
     "iopub.status.idle": "2023-03-19T15:29:55.106668Z",
     "shell.execute_reply": "2023-03-19T15:29:55.104754Z"
    },
    "papermill": {
     "duration": 0.041858,
     "end_time": "2023-03-19T15:29:55.108851",
     "exception": false,
     "start_time": "2023-03-19T15:29:55.066993",
     "status": "completed"
    },
    "tags": []
   },
   "outputs": [
    {
     "data": {
      "text/plain": [
       "77.10437710437711"
      ]
     },
     "execution_count": 11,
     "metadata": {},
     "output_type": "execute_result"
    }
   ],
   "source": [
    "#Percentage of the missing values on the 'Cabin' column\n",
    "train_data[\"Cabin\"].isnull().sum()/train_data.shape[0]*100"
   ]
  },
  {
   "cell_type": "markdown",
   "id": "ac314cf3",
   "metadata": {
    "execution": {
     "iopub.execute_input": "2023-03-19T11:41:34.725519Z",
     "iopub.status.busy": "2023-03-19T11:41:34.725155Z",
     "iopub.status.idle": "2023-03-19T11:41:34.731966Z",
     "shell.execute_reply": "2023-03-19T11:41:34.730129Z",
     "shell.execute_reply.started": "2023-03-19T11:41:34.725476Z"
    },
    "papermill": {
     "duration": 0.028676,
     "end_time": "2023-03-19T15:29:55.167102",
     "exception": false,
     "start_time": "2023-03-19T15:29:55.138426",
     "status": "completed"
    },
    "tags": []
   },
   "source": [
    "Approximately the %77 of the  passengers' cabin informations are missing.\n",
    "\n",
    "The percentage of the missing values is too much to fill in the missing values by using knowing data\n",
    "\n",
    "That's why,we have to drop the column"
   ]
  },
  {
   "cell_type": "markdown",
   "id": "e3b5fa73",
   "metadata": {
    "papermill": {
     "duration": 0.028994,
     "end_time": "2023-03-19T15:29:55.225116",
     "exception": false,
     "start_time": "2023-03-19T15:29:55.196122",
     "status": "completed"
    },
    "tags": []
   },
   "source": [
    "### 3.3 Embarked-Missing Values"
   ]
  },
  {
   "cell_type": "code",
   "execution_count": 12,
   "id": "cb31ef70",
   "metadata": {
    "execution": {
     "iopub.execute_input": "2023-03-19T15:29:55.285976Z",
     "iopub.status.busy": "2023-03-19T15:29:55.285586Z",
     "iopub.status.idle": "2023-03-19T15:29:55.292463Z",
     "shell.execute_reply": "2023-03-19T15:29:55.291644Z"
    },
    "papermill": {
     "duration": 0.040105,
     "end_time": "2023-03-19T15:29:55.294563",
     "exception": false,
     "start_time": "2023-03-19T15:29:55.254458",
     "status": "completed"
    },
    "tags": []
   },
   "outputs": [
    {
     "data": {
      "text/plain": [
       "0.22446689113355783"
      ]
     },
     "execution_count": 12,
     "metadata": {},
     "output_type": "execute_result"
    }
   ],
   "source": [
    "#Percentage of the missing values on 'Embarked' columns\n",
    "train_data[\"Embarked\"].isnull().sum()/train_data.shape[0]*100"
   ]
  },
  {
   "cell_type": "markdown",
   "id": "73c15e76",
   "metadata": {
    "execution": {
     "iopub.execute_input": "2023-03-19T11:48:28.089585Z",
     "iopub.status.busy": "2023-03-19T11:48:28.089188Z",
     "iopub.status.idle": "2023-03-19T11:48:28.097161Z",
     "shell.execute_reply": "2023-03-19T11:48:28.095584Z",
     "shell.execute_reply.started": "2023-03-19T11:48:28.089548Z"
    },
    "papermill": {
     "duration": 0.02905,
     "end_time": "2023-03-19T15:29:55.352335",
     "exception": false,
     "start_time": "2023-03-19T15:29:55.323285",
     "status": "completed"
    },
    "tags": []
   },
   "source": [
    "The %0.22 of the passengers' embarked informations are missing.\n",
    "\n",
    "We can handle it,too"
   ]
  },
  {
   "cell_type": "code",
   "execution_count": 13,
   "id": "5a69928f",
   "metadata": {
    "execution": {
     "iopub.execute_input": "2023-03-19T15:29:55.412868Z",
     "iopub.status.busy": "2023-03-19T15:29:55.411683Z",
     "iopub.status.idle": "2023-03-19T15:29:55.622302Z",
     "shell.execute_reply": "2023-03-19T15:29:55.621057Z"
    },
    "papermill": {
     "duration": 0.243406,
     "end_time": "2023-03-19T15:29:55.624659",
     "exception": false,
     "start_time": "2023-03-19T15:29:55.381253",
     "status": "completed"
    },
    "tags": []
   },
   "outputs": [
    {
     "data": {
      "text/plain": [
       "<AxesSubplot:xlabel='Embarked', ylabel='count'>"
      ]
     },
     "execution_count": 13,
     "metadata": {},
     "output_type": "execute_result"
    },
    {
     "data": {
      "image/png": "[encoded data removed]",
      "text/plain": [
       "<Figure size 640x480 with 1 Axes>"
      ]
     },
     "metadata": {},
     "output_type": "display_data"
    }
   ],
   "source": [
    "# looking at where the passengers get in.\n",
    "sns.countplot(data=train_data,x=train_data[\"Embarked\"])"
   ]
  },
  {
   "cell_type": "code",
   "execution_count": 14,
   "id": "e5c46fd5",
   "metadata": {
    "execution": {
     "iopub.execute_input": "2023-03-19T15:29:55.687027Z",
     "iopub.status.busy": "2023-03-19T15:29:55.686638Z",
     "iopub.status.idle": "2023-03-19T15:29:55.697274Z",
     "shell.execute_reply": "2023-03-19T15:29:55.695591Z"
    },
    "papermill": {
     "duration": 0.044655,
     "end_time": "2023-03-19T15:29:55.699633",
     "exception": false,
     "start_time": "2023-03-19T15:29:55.654978",
     "status": "completed"
    },
    "tags": []
   },
   "outputs": [
    {
     "name": "stdout",
     "output_type": "stream",
     "text": [
      "Where did the passengers get in:(C = Cherbourg, Q = Queenstown, S = Southampton)\n"
     ]
    },
    {
     "data": {
      "text/plain": [
       "S    644\n",
       "C    168\n",
       "Q     77\n",
       "Name: Embarked, dtype: int64"
      ]
     },
     "execution_count": 14,
     "metadata": {},
     "output_type": "execute_result"
    }
   ],
   "source": [
    "#Exactly numbers of the 'Embarked' column\n",
    "print(\"Where did the passengers get in:(C = Cherbourg, Q = Queenstown, S = Southampton)\")\n",
    "train_data[\"Embarked\"].value_counts()"
   ]
  },
  {
   "cell_type": "code",
   "execution_count": 15,
   "id": "a9c906cc",
   "metadata": {
    "execution": {
     "iopub.execute_input": "2023-03-19T15:29:55.761329Z",
     "iopub.status.busy": "2023-03-19T15:29:55.760582Z",
     "iopub.status.idle": "2023-03-19T15:29:55.767771Z",
     "shell.execute_reply": "2023-03-19T15:29:55.766447Z"
    },
    "papermill": {
     "duration": 0.040933,
     "end_time": "2023-03-19T15:29:55.770220",
     "exception": false,
     "start_time": "2023-03-19T15:29:55.729287",
     "status": "completed"
    },
    "tags": []
   },
   "outputs": [
    {
     "name": "stdout",
     "output_type": "stream",
     "text": [
      "Most count value of the 'Embarked' column is : S\n"
     ]
    }
   ],
   "source": [
    "print(\"Most count value of the 'Embarked' column is :\",train_data[\"Embarked\"].value_counts().idxmax())"
   ]
  },
  {
   "cell_type": "markdown",
   "id": "e57d1d64",
   "metadata": {
    "papermill": {
     "duration": 0.029783,
     "end_time": "2023-03-19T15:29:55.830034",
     "exception": false,
     "start_time": "2023-03-19T15:29:55.800251",
     "status": "completed"
    },
    "tags": []
   },
   "source": [
    "Because of the type of 'Embarked' column(categoric),we cannot use the mean,median to fill in the missing values.\n",
    "\n",
    "For that reason and because of the above graph, we can fill in the missing values by S=Southampton,because the values of the between the number of the S=Southampton and other is too many."
   ]
  },
  {
   "cell_type": "markdown",
   "id": "395973cb",
   "metadata": {
    "papermill": {
     "duration": 0.029676,
     "end_time": "2023-03-19T15:29:55.889783",
     "exception": false,
     "start_time": "2023-03-19T15:29:55.860107",
     "status": "completed"
    },
    "tags": []
   },
   "source": [
    "### 3.4 Last Decision For the Missing Values"
   ]
  },
  {
   "cell_type": "markdown",
   "id": "c0f5e2bc",
   "metadata": {
    "papermill": {
     "duration": 0.029291,
     "end_time": "2023-03-19T15:29:55.949717",
     "exception": false,
     "start_time": "2023-03-19T15:29:55.920426",
     "status": "completed"
    },
    "tags": []
   },
   "source": [
    "* Age->By using median,we will fill in the missing values\n",
    "* Embarked->We will fill in the missing values by 'S'\n",
    "* Cabin->We will drop the column\n",
    "\n",
    "**Every operations are have to made in both train and test data**"
   ]
  },
  {
   "cell_type": "code",
   "execution_count": 16,
   "id": "6725abc8",
   "metadata": {
    "execution": {
     "iopub.execute_input": "2023-03-19T15:29:56.011088Z",
     "iopub.status.busy": "2023-03-19T15:29:56.010651Z",
     "iopub.status.idle": "2023-03-19T15:29:56.020973Z",
     "shell.execute_reply": "2023-03-19T15:29:56.020000Z"
    },
    "papermill": {
     "duration": 0.044179,
     "end_time": "2023-03-19T15:29:56.023621",
     "exception": false,
     "start_time": "2023-03-19T15:29:55.979442",
     "status": "completed"
    },
    "tags": []
   },
   "outputs": [],
   "source": [
    "train_data[\"Age\"].fillna(train_data[\"Age\"].median(skipna=True), inplace=True)\n",
    "train_data[\"Embarked\"].fillna(train_data['Embarked'].value_counts().idxmax(), inplace=True)\n",
    "train_data.drop('Cabin', axis=1, inplace=True)"
   ]
  },
  {
   "cell_type": "code",
   "execution_count": 17,
   "id": "b3491d50",
   "metadata": {
    "execution": {
     "iopub.execute_input": "2023-03-19T15:29:56.085442Z",
     "iopub.status.busy": "2023-03-19T15:29:56.084624Z",
     "iopub.status.idle": "2023-03-19T15:29:56.094816Z",
     "shell.execute_reply": "2023-03-19T15:29:56.093370Z"
    },
    "papermill": {
     "duration": 0.043993,
     "end_time": "2023-03-19T15:29:56.097295",
     "exception": false,
     "start_time": "2023-03-19T15:29:56.053302",
     "status": "completed"
    },
    "tags": []
   },
   "outputs": [],
   "source": [
    "test_data[\"Age\"].fillna(test_data[\"Age\"].median(skipna=True), inplace=True)\n",
    "test_data[\"Embarked\"].fillna(test_data['Embarked'].value_counts().idxmax(), inplace=True)\n",
    "test_data.drop('Cabin', axis=1, inplace=True)"
   ]
  },
  {
   "cell_type": "code",
   "execution_count": 18,
   "id": "8c1167c8",
   "metadata": {
    "execution": {
     "iopub.execute_input": "2023-03-19T15:29:56.159228Z",
     "iopub.status.busy": "2023-03-19T15:29:56.158747Z",
     "iopub.status.idle": "2023-03-19T15:29:56.168806Z",
     "shell.execute_reply": "2023-03-19T15:29:56.167783Z"
    },
    "papermill": {
     "duration": 0.043625,
     "end_time": "2023-03-19T15:29:56.170961",
     "exception": false,
     "start_time": "2023-03-19T15:29:56.127336",
     "status": "completed"
    },
    "tags": []
   },
   "outputs": [
    {
     "data": {
      "text/plain": [
       "PassengerId    0\n",
       "Survived       0\n",
       "Pclass         0\n",
       "Name           0\n",
       "Sex            0\n",
       "Age            0\n",
       "SibSp          0\n",
       "Parch          0\n",
       "Ticket         0\n",
       "Fare           0\n",
       "Embarked       0\n",
       "dtype: int64"
      ]
     },
     "execution_count": 18,
     "metadata": {},
     "output_type": "execute_result"
    }
   ],
   "source": [
    "#looking at the missing values of the train data,again\n",
    "train_data.isnull().sum()"
   ]
  },
  {
   "cell_type": "code",
   "execution_count": 19,
   "id": "c5325a43",
   "metadata": {
    "execution": {
     "iopub.execute_input": "2023-03-19T15:29:56.232969Z",
     "iopub.status.busy": "2023-03-19T15:29:56.232551Z",
     "iopub.status.idle": "2023-03-19T15:29:56.242375Z",
     "shell.execute_reply": "2023-03-19T15:29:56.241075Z"
    },
    "papermill": {
     "duration": 0.043999,
     "end_time": "2023-03-19T15:29:56.244839",
     "exception": false,
     "start_time": "2023-03-19T15:29:56.200840",
     "status": "completed"
    },
    "tags": []
   },
   "outputs": [
    {
     "data": {
      "text/plain": [
       "PassengerId    0\n",
       "Pclass         0\n",
       "Name           0\n",
       "Sex            0\n",
       "Age            0\n",
       "SibSp          0\n",
       "Parch          0\n",
       "Ticket         0\n",
       "Fare           1\n",
       "Embarked       0\n",
       "dtype: int64"
      ]
     },
     "execution_count": 19,
     "metadata": {},
     "output_type": "execute_result"
    }
   ],
   "source": [
    "#looking at the missing values of the test data,again\n",
    "test_data.isnull().sum()"
   ]
  },
  {
   "cell_type": "markdown",
   "id": "c42443ec",
   "metadata": {
    "papermill": {
     "duration": 0.030492,
     "end_time": "2023-03-19T15:29:56.306130",
     "exception": false,
     "start_time": "2023-03-19T15:29:56.275638",
     "status": "completed"
    },
    "tags": []
   },
   "source": [
    "### 3.5 Fare-Missing Values"
   ]
  },
  {
   "cell_type": "code",
   "execution_count": 20,
   "id": "69d33205",
   "metadata": {
    "execution": {
     "iopub.execute_input": "2023-03-19T15:29:56.369784Z",
     "iopub.status.busy": "2023-03-19T15:29:56.368854Z",
     "iopub.status.idle": "2023-03-19T15:29:56.377574Z",
     "shell.execute_reply": "2023-03-19T15:29:56.376363Z"
    },
    "papermill": {
     "duration": 0.043138,
     "end_time": "2023-03-19T15:29:56.379882",
     "exception": false,
     "start_time": "2023-03-19T15:29:56.336744",
     "status": "completed"
    },
    "tags": []
   },
   "outputs": [
    {
     "data": {
      "text/plain": [
       "0.23923444976076555"
      ]
     },
     "execution_count": 20,
     "metadata": {},
     "output_type": "execute_result"
    }
   ],
   "source": [
    "# looking at 'Fare' column\n",
    "test_data['Fare'].isnull().sum()/test_data.shape[0]*100"
   ]
  },
  {
   "cell_type": "markdown",
   "id": "f37ccbf9",
   "metadata": {
    "papermill": {
     "duration": 0.029484,
     "end_time": "2023-03-19T15:29:56.440023",
     "exception": false,
     "start_time": "2023-03-19T15:29:56.410539",
     "status": "completed"
    },
    "tags": []
   },
   "source": [
    "We can handle it,too"
   ]
  },
  {
   "cell_type": "code",
   "execution_count": 21,
   "id": "faa14b20",
   "metadata": {
    "execution": {
     "iopub.execute_input": "2023-03-19T15:29:56.501983Z",
     "iopub.status.busy": "2023-03-19T15:29:56.501596Z",
     "iopub.status.idle": "2023-03-19T15:29:56.763577Z",
     "shell.execute_reply": "2023-03-19T15:29:56.762325Z"
    },
    "papermill": {
     "duration": 0.295891,
     "end_time": "2023-03-19T15:29:56.766049",
     "exception": false,
     "start_time": "2023-03-19T15:29:56.470158",
     "status": "completed"
    },
    "tags": []
   },
   "outputs": [
    {
     "data": {
      "image/png": "[encoded data removed]",
      "text/plain": [
       "<Figure size 640x480 with 1 Axes>"
      ]
     },
     "metadata": {},
     "output_type": "display_data"
    }
   ],
   "source": [
    "ax = test_data['Fare'].hist(bins=15, density=True, stacked=True, alpha=0.7)\n",
    "\n",
    "test_data['Fare'].plot(kind='density')\n",
    "\n",
    "ax.set(xlabel='Fare')\n",
    "plt.xlim(0, 90)\n",
    "plt.grid()\n",
    "plt.show()"
   ]
  },
  {
   "cell_type": "markdown",
   "id": "64127ee6",
   "metadata": {
    "papermill": {
     "duration": 0.02994,
     "end_time": "2023-03-19T15:29:56.826515",
     "exception": false,
     "start_time": "2023-03-19T15:29:56.796575",
     "status": "completed"
    },
    "tags": []
   },
   "source": [
    "The histogram graph is a right-skewed(Positive Skewness).\n",
    "\n",
    "Using the median will be better"
   ]
  },
  {
   "cell_type": "code",
   "execution_count": 22,
   "id": "8de62b4f",
   "metadata": {
    "execution": {
     "iopub.execute_input": "2023-03-19T15:29:56.889608Z",
     "iopub.status.busy": "2023-03-19T15:29:56.889148Z",
     "iopub.status.idle": "2023-03-19T15:29:56.896447Z",
     "shell.execute_reply": "2023-03-19T15:29:56.895332Z"
    },
    "papermill": {
     "duration": 0.041587,
     "end_time": "2023-03-19T15:29:56.898590",
     "exception": false,
     "start_time": "2023-03-19T15:29:56.857003",
     "status": "completed"
    },
    "tags": []
   },
   "outputs": [
    {
     "data": {
      "text/plain": [
       "35.627188489208635"
      ]
     },
     "execution_count": 22,
     "metadata": {},
     "output_type": "execute_result"
    }
   ],
   "source": [
    "#Mean of the 'Fare' column\n",
    "#skipna=skip the missing data\n",
    "test_data[\"Fare\"].mean(skipna=True)"
   ]
  },
  {
   "cell_type": "code",
   "execution_count": 23,
   "id": "eb0882b8",
   "metadata": {
    "execution": {
     "iopub.execute_input": "2023-03-19T15:29:56.962333Z",
     "iopub.status.busy": "2023-03-19T15:29:56.961567Z",
     "iopub.status.idle": "2023-03-19T15:29:56.969172Z",
     "shell.execute_reply": "2023-03-19T15:29:56.968033Z"
    },
    "papermill": {
     "duration": 0.04197,
     "end_time": "2023-03-19T15:29:56.971350",
     "exception": false,
     "start_time": "2023-03-19T15:29:56.929380",
     "status": "completed"
    },
    "tags": []
   },
   "outputs": [
    {
     "data": {
      "text/plain": [
       "14.4542"
      ]
     },
     "execution_count": 23,
     "metadata": {},
     "output_type": "execute_result"
    }
   ],
   "source": [
    "#Median of the 'Fare' column\n",
    "#skipna=skip the missing data\n",
    "test_data[\"Fare\"].median(skipna=True)"
   ]
  },
  {
   "cell_type": "code",
   "execution_count": 24,
   "id": "f4f9bc0b",
   "metadata": {
    "execution": {
     "iopub.execute_input": "2023-03-19T15:29:57.034841Z",
     "iopub.status.busy": "2023-03-19T15:29:57.034107Z",
     "iopub.status.idle": "2023-03-19T15:29:57.040106Z",
     "shell.execute_reply": "2023-03-19T15:29:57.039279Z"
    },
    "papermill": {
     "duration": 0.040042,
     "end_time": "2023-03-19T15:29:57.042196",
     "exception": false,
     "start_time": "2023-03-19T15:29:57.002154",
     "status": "completed"
    },
    "tags": []
   },
   "outputs": [],
   "source": [
    "test_data[\"Fare\"].fillna(test_data[\"Fare\"].median(skipna=True),inplace=True)"
   ]
  },
  {
   "cell_type": "code",
   "execution_count": 25,
   "id": "01295610",
   "metadata": {
    "execution": {
     "iopub.execute_input": "2023-03-19T15:29:57.106838Z",
     "iopub.status.busy": "2023-03-19T15:29:57.105289Z",
     "iopub.status.idle": "2023-03-19T15:29:57.116704Z",
     "shell.execute_reply": "2023-03-19T15:29:57.115452Z"
    },
    "papermill": {
     "duration": 0.046195,
     "end_time": "2023-03-19T15:29:57.119221",
     "exception": false,
     "start_time": "2023-03-19T15:29:57.073026",
     "status": "completed"
    },
    "tags": []
   },
   "outputs": [
    {
     "data": {
      "text/plain": [
       "PassengerId    0\n",
       "Pclass         0\n",
       "Name           0\n",
       "Sex            0\n",
       "Age            0\n",
       "SibSp          0\n",
       "Parch          0\n",
       "Ticket         0\n",
       "Fare           0\n",
       "Embarked       0\n",
       "dtype: int64"
      ]
     },
     "execution_count": 25,
     "metadata": {},
     "output_type": "execute_result"
    }
   ],
   "source": [
    "#looking at the missing values of the test data,again\n",
    "test_data.isnull().sum()"
   ]
  },
  {
   "cell_type": "markdown",
   "id": "bb6dd44c",
   "metadata": {
    "papermill": {
     "duration": 0.030966,
     "end_time": "2023-03-19T15:29:57.181147",
     "exception": false,
     "start_time": "2023-03-19T15:29:57.150181",
     "status": "completed"
    },
    "tags": []
   },
   "source": [
    "## 3.6 New Feature"
   ]
  },
  {
   "cell_type": "markdown",
   "id": "37ef7a06",
   "metadata": {
    "papermill": {
     "duration": 0.030704,
     "end_time": "2023-03-19T15:29:57.242723",
     "exception": false,
     "start_time": "2023-03-19T15:29:57.212019",
     "status": "completed"
    },
    "tags": []
   },
   "source": [
    "There are two columns that are related to each other:SibSp,Parch\n",
    "* **SibSp**: # of siblings / spouses aboard the Titanic\n",
    "* **Parch**: # of parents / children aboard the Titanic\n",
    "\n",
    "It would be better to collect these two variables under one variable: Is she/he traveling alone?\n",
    "\n",
    "Let be the name of the new column is **isAlone**"
   ]
  },
  {
   "cell_type": "code",
   "execution_count": 26,
   "id": "2e5726c1",
   "metadata": {
    "execution": {
     "iopub.execute_input": "2023-03-19T15:29:57.308752Z",
     "iopub.status.busy": "2023-03-19T15:29:57.307983Z",
     "iopub.status.idle": "2023-03-19T15:29:57.314012Z",
     "shell.execute_reply": "2023-03-19T15:29:57.313142Z"
    },
    "papermill": {
     "duration": 0.04267,
     "end_time": "2023-03-19T15:29:57.316096",
     "exception": false,
     "start_time": "2023-03-19T15:29:57.273426",
     "status": "completed"
    },
    "tags": []
   },
   "outputs": [],
   "source": [
    "train_data['isAlone'] = np.where((train_data[\"SibSp\"] + train_data[\"Parch\"]) > 0, 0, 1)"
   ]
  },
  {
   "cell_type": "code",
   "execution_count": 27,
   "id": "b970ef28",
   "metadata": {
    "execution": {
     "iopub.execute_input": "2023-03-19T15:29:57.380111Z",
     "iopub.status.busy": "2023-03-19T15:29:57.379122Z",
     "iopub.status.idle": "2023-03-19T15:29:57.385608Z",
     "shell.execute_reply": "2023-03-19T15:29:57.384741Z"
    },
    "papermill": {
     "duration": 0.040752,
     "end_time": "2023-03-19T15:29:57.387828",
     "exception": false,
     "start_time": "2023-03-19T15:29:57.347076",
     "status": "completed"
    },
    "tags": []
   },
   "outputs": [],
   "source": [
    "test_data['isAlone'] = np.where((test_data[\"SibSp\"] + test_data[\"Parch\"]) > 0, 0, 1)"
   ]
  },
  {
   "cell_type": "code",
   "execution_count": 28,
   "id": "8072e309",
   "metadata": {
    "execution": {
     "iopub.execute_input": "2023-03-19T15:29:57.452054Z",
     "iopub.status.busy": "2023-03-19T15:29:57.451262Z",
     "iopub.status.idle": "2023-03-19T15:29:57.461456Z",
     "shell.execute_reply": "2023-03-19T15:29:57.460136Z"
    },
    "papermill": {
     "duration": 0.045585,
     "end_time": "2023-03-19T15:29:57.464253",
     "exception": false,
     "start_time": "2023-03-19T15:29:57.418668",
     "status": "completed"
    },
    "tags": []
   },
   "outputs": [],
   "source": [
    "#Drop the 'SibSp' and 'Parch' columns\n",
    "train_data.drop('SibSp', axis=1, inplace=True)\n",
    "\n",
    "train_data.drop('Parch', axis=1, inplace=True)\n",
    "\n",
    "test_data.drop('SibSp', axis=1, inplace=True)\n",
    "\n",
    "test_data.drop('Parch', axis=1, inplace=True)"
   ]
  },
  {
   "cell_type": "markdown",
   "id": "88cdd5c3",
   "metadata": {
    "papermill": {
     "duration": 0.030421,
     "end_time": "2023-03-19T15:29:57.526082",
     "exception": false,
     "start_time": "2023-03-19T15:29:57.495661",
     "status": "completed"
    },
    "tags": []
   },
   "source": [
    "### 3.7 Categorical Variables"
   ]
  },
  {
   "cell_type": "markdown",
   "id": "2b427f42",
   "metadata": {
    "papermill": {
     "duration": 0.030615,
     "end_time": "2023-03-19T15:29:57.587308",
     "exception": false,
     "start_time": "2023-03-19T15:29:57.556693",
     "status": "completed"
    },
    "tags": []
   },
   "source": [
    "Type of the \"Pclass\",\"Embarked\",\"Sex\" are categorical.We need to encode them."
   ]
  },
  {
   "cell_type": "code",
   "execution_count": 29,
   "id": "bb3dd5f2",
   "metadata": {
    "execution": {
     "iopub.execute_input": "2023-03-19T15:29:57.651638Z",
     "iopub.status.busy": "2023-03-19T15:29:57.651193Z",
     "iopub.status.idle": "2023-03-19T15:29:57.667702Z",
     "shell.execute_reply": "2023-03-19T15:29:57.666421Z"
    },
    "papermill": {
     "duration": 0.051115,
     "end_time": "2023-03-19T15:29:57.670001",
     "exception": false,
     "start_time": "2023-03-19T15:29:57.618886",
     "status": "completed"
    },
    "tags": []
   },
   "outputs": [
    {
     "data": {
      "text/html": [
       "<div>\n",
       "<style scoped>\n",
       "    .dataframe tbody tr th:only-of-type {\n",
       "        vertical-align: middle;\n",
       "    }\n",
       "\n",
       "    .dataframe tbody tr th {\n",
       "        vertical-align: top;\n",
       "    }\n",
       "\n",
       "    .dataframe thead th {\n",
       "        text-align: right;\n",
       "    }\n",
       "</style>\n",
       "<table border=\"1\" class=\"dataframe\">\n",
       "  <thead>\n",
       "    <tr style=\"text-align: right;\">\n",
       "      <th></th>\n",
       "      <th>PassengerId</th>\n",
       "      <th>Survived</th>\n",
       "      <th>Pclass</th>\n",
       "      <th>Name</th>\n",
       "      <th>Sex</th>\n",
       "      <th>Age</th>\n",
       "      <th>Ticket</th>\n",
       "      <th>Fare</th>\n",
       "      <th>Embarked</th>\n",
       "      <th>isAlone</th>\n",
       "    </tr>\n",
       "  </thead>\n",
       "  <tbody>\n",
       "    <tr>\n",
       "      <th>0</th>\n",
       "      <td>1</td>\n",
       "      <td>0</td>\n",
       "      <td>3</td>\n",
       "      <td>Braund, Mr. Owen Harris</td>\n",
       "      <td>male</td>\n",
       "      <td>22.0</td>\n",
       "      <td>A/5 21171</td>\n",
       "      <td>7.2500</td>\n",
       "      <td>S</td>\n",
       "      <td>0</td>\n",
       "    </tr>\n",
       "    <tr>\n",
       "      <th>1</th>\n",
       "      <td>2</td>\n",
       "      <td>1</td>\n",
       "      <td>1</td>\n",
       "      <td>Cumings, Mrs. John Bradley (Florence Briggs Th...</td>\n",
       "      <td>female</td>\n",
       "      <td>38.0</td>\n",
       "      <td>PC 17599</td>\n",
       "      <td>71.2833</td>\n",
       "      <td>C</td>\n",
       "      <td>0</td>\n",
       "    </tr>\n",
       "    <tr>\n",
       "      <th>2</th>\n",
       "      <td>3</td>\n",
       "      <td>1</td>\n",
       "      <td>3</td>\n",
       "      <td>Heikkinen, Miss. Laina</td>\n",
       "      <td>female</td>\n",
       "      <td>26.0</td>\n",
       "      <td>STON/O2. 3101282</td>\n",
       "      <td>7.9250</td>\n",
       "      <td>S</td>\n",
       "      <td>1</td>\n",
       "    </tr>\n",
       "    <tr>\n",
       "      <th>3</th>\n",
       "      <td>4</td>\n",
       "      <td>1</td>\n",
       "      <td>1</td>\n",
       "      <td>Futrelle, Mrs. Jacques Heath (Lily May Peel)</td>\n",
       "      <td>female</td>\n",
       "      <td>35.0</td>\n",
       "      <td>113803</td>\n",
       "      <td>53.1000</td>\n",
       "      <td>S</td>\n",
       "      <td>0</td>\n",
       "    </tr>\n",
       "    <tr>\n",
       "      <th>4</th>\n",
       "      <td>5</td>\n",
       "      <td>0</td>\n",
       "      <td>3</td>\n",
       "      <td>Allen, Mr. William Henry</td>\n",
       "      <td>male</td>\n",
       "      <td>35.0</td>\n",
       "      <td>373450</td>\n",
       "      <td>8.0500</td>\n",
       "      <td>S</td>\n",
       "      <td>1</td>\n",
       "    </tr>\n",
       "  </tbody>\n",
       "</table>\n",
       "</div>"
      ],
      "text/plain": [
       "   PassengerId  Survived  Pclass  \\\n",
       "0            1         0       3   \n",
       "1            2         1       1   \n",
       "2            3         1       3   \n",
       "3            4         1       1   \n",
       "4            5         0       3   \n",
       "\n",
       "                                                Name     Sex   Age  \\\n",
       "0                            Braund, Mr. Owen Harris    male  22.0   \n",
       "1  Cumings, Mrs. John Bradley (Florence Briggs Th...  female  38.0   \n",
       "2                             Heikkinen, Miss. Laina  female  26.0   \n",
       "3       Futrelle, Mrs. Jacques Heath (Lily May Peel)  female  35.0   \n",
       "4                           Allen, Mr. William Henry    male  35.0   \n",
       "\n",
       "             Ticket     Fare Embarked  isAlone  \n",
       "0         A/5 21171   7.2500        S        0  \n",
       "1          PC 17599  71.2833        C        0  \n",
       "2  STON/O2. 3101282   7.9250        S        1  \n",
       "3            113803  53.1000        S        0  \n",
       "4            373450   8.0500        S        1  "
      ]
     },
     "execution_count": 29,
     "metadata": {},
     "output_type": "execute_result"
    }
   ],
   "source": [
    "train_data.head()"
   ]
  },
  {
   "cell_type": "code",
   "execution_count": 30,
   "id": "e845fae5",
   "metadata": {
    "execution": {
     "iopub.execute_input": "2023-03-19T15:29:57.734617Z",
     "iopub.status.busy": "2023-03-19T15:29:57.733469Z",
     "iopub.status.idle": "2023-03-19T15:29:57.749769Z",
     "shell.execute_reply": "2023-03-19T15:29:57.748544Z"
    },
    "papermill": {
     "duration": 0.051279,
     "end_time": "2023-03-19T15:29:57.752349",
     "exception": false,
     "start_time": "2023-03-19T15:29:57.701070",
     "status": "completed"
    },
    "tags": []
   },
   "outputs": [
    {
     "data": {
      "text/html": [
       "<div>\n",
       "<style scoped>\n",
       "    .dataframe tbody tr th:only-of-type {\n",
       "        vertical-align: middle;\n",
       "    }\n",
       "\n",
       "    .dataframe tbody tr th {\n",
       "        vertical-align: top;\n",
       "    }\n",
       "\n",
       "    .dataframe thead th {\n",
       "        text-align: right;\n",
       "    }\n",
       "</style>\n",
       "<table border=\"1\" class=\"dataframe\">\n",
       "  <thead>\n",
       "    <tr style=\"text-align: right;\">\n",
       "      <th></th>\n",
       "      <th>PassengerId</th>\n",
       "      <th>Pclass</th>\n",
       "      <th>Name</th>\n",
       "      <th>Sex</th>\n",
       "      <th>Age</th>\n",
       "      <th>Ticket</th>\n",
       "      <th>Fare</th>\n",
       "      <th>Embarked</th>\n",
       "      <th>isAlone</th>\n",
       "    </tr>\n",
       "  </thead>\n",
       "  <tbody>\n",
       "    <tr>\n",
       "      <th>0</th>\n",
       "      <td>892</td>\n",
       "      <td>3</td>\n",
       "      <td>Kelly, Mr. James</td>\n",
       "      <td>male</td>\n",
       "      <td>34.5</td>\n",
       "      <td>330911</td>\n",
       "      <td>7.8292</td>\n",
       "      <td>Q</td>\n",
       "      <td>1</td>\n",
       "    </tr>\n",
       "    <tr>\n",
       "      <th>1</th>\n",
       "      <td>893</td>\n",
       "      <td>3</td>\n",
       "      <td>Wilkes, Mrs. James (Ellen Needs)</td>\n",
       "      <td>female</td>\n",
       "      <td>47.0</td>\n",
       "      <td>363272</td>\n",
       "      <td>7.0000</td>\n",
       "      <td>S</td>\n",
       "      <td>0</td>\n",
       "    </tr>\n",
       "    <tr>\n",
       "      <th>2</th>\n",
       "      <td>894</td>\n",
       "      <td>2</td>\n",
       "      <td>Myles, Mr. Thomas Francis</td>\n",
       "      <td>male</td>\n",
       "      <td>62.0</td>\n",
       "      <td>240276</td>\n",
       "      <td>9.6875</td>\n",
       "      <td>Q</td>\n",
       "      <td>1</td>\n",
       "    </tr>\n",
       "    <tr>\n",
       "      <th>3</th>\n",
       "      <td>895</td>\n",
       "      <td>3</td>\n",
       "      <td>Wirz, Mr. Albert</td>\n",
       "      <td>male</td>\n",
       "      <td>27.0</td>\n",
       "      <td>315154</td>\n",
       "      <td>8.6625</td>\n",
       "      <td>S</td>\n",
       "      <td>1</td>\n",
       "    </tr>\n",
       "    <tr>\n",
       "      <th>4</th>\n",
       "      <td>896</td>\n",
       "      <td>3</td>\n",
       "      <td>Hirvonen, Mrs. Alexander (Helga E Lindqvist)</td>\n",
       "      <td>female</td>\n",
       "      <td>22.0</td>\n",
       "      <td>3101298</td>\n",
       "      <td>12.2875</td>\n",
       "      <td>S</td>\n",
       "      <td>0</td>\n",
       "    </tr>\n",
       "  </tbody>\n",
       "</table>\n",
       "</div>"
      ],
      "text/plain": [
       "   PassengerId  Pclass                                          Name     Sex  \\\n",
       "0          892       3                              Kelly, Mr. James    male   \n",
       "1          893       3              Wilkes, Mrs. James (Ellen Needs)  female   \n",
       "2          894       2                     Myles, Mr. Thomas Francis    male   \n",
       "3          895       3                              Wirz, Mr. Albert    male   \n",
       "4          896       3  Hirvonen, Mrs. Alexander (Helga E Lindqvist)  female   \n",
       "\n",
       "    Age   Ticket     Fare Embarked  isAlone  \n",
       "0  34.5   330911   7.8292        Q        1  \n",
       "1  47.0   363272   7.0000        S        0  \n",
       "2  62.0   240276   9.6875        Q        1  \n",
       "3  27.0   315154   8.6625        S        1  \n",
       "4  22.0  3101298  12.2875        S        0  "
      ]
     },
     "execution_count": 30,
     "metadata": {},
     "output_type": "execute_result"
    }
   ],
   "source": [
    "test_data.head()"
   ]
  },
  {
   "cell_type": "code",
   "execution_count": 31,
   "id": "35a597f4",
   "metadata": {
    "execution": {
     "iopub.execute_input": "2023-03-19T15:29:57.817586Z",
     "iopub.status.busy": "2023-03-19T15:29:57.817076Z",
     "iopub.status.idle": "2023-03-19T15:29:57.836567Z",
     "shell.execute_reply": "2023-03-19T15:29:57.835173Z"
    },
    "papermill": {
     "duration": 0.055853,
     "end_time": "2023-03-19T15:29:57.839544",
     "exception": false,
     "start_time": "2023-03-19T15:29:57.783691",
     "status": "completed"
    },
    "tags": []
   },
   "outputs": [],
   "source": [
    "#encode them with get_dummies()\n",
    "train_data=pd.get_dummies(train_data,columns=[\"Pclass\",\"Embarked\",\"Sex\"],drop_first=True)\n",
    "test_data=pd.get_dummies(test_data,columns=[\"Pclass\",\"Embarked\",\"Sex\"],drop_first=True)"
   ]
  },
  {
   "cell_type": "code",
   "execution_count": 32,
   "id": "47466d7e",
   "metadata": {
    "execution": {
     "iopub.execute_input": "2023-03-19T15:29:57.904053Z",
     "iopub.status.busy": "2023-03-19T15:29:57.903621Z",
     "iopub.status.idle": "2023-03-19T15:29:57.921001Z",
     "shell.execute_reply": "2023-03-19T15:29:57.919703Z"
    },
    "papermill": {
     "duration": 0.05273,
     "end_time": "2023-03-19T15:29:57.923605",
     "exception": false,
     "start_time": "2023-03-19T15:29:57.870875",
     "status": "completed"
    },
    "tags": []
   },
   "outputs": [
    {
     "data": {
      "text/html": [
       "<div>\n",
       "<style scoped>\n",
       "    .dataframe tbody tr th:only-of-type {\n",
       "        vertical-align: middle;\n",
       "    }\n",
       "\n",
       "    .dataframe tbody tr th {\n",
       "        vertical-align: top;\n",
       "    }\n",
       "\n",
       "    .dataframe thead th {\n",
       "        text-align: right;\n",
       "    }\n",
       "</style>\n",
       "<table border=\"1\" class=\"dataframe\">\n",
       "  <thead>\n",
       "    <tr style=\"text-align: right;\">\n",
       "      <th></th>\n",
       "      <th>PassengerId</th>\n",
       "      <th>Survived</th>\n",
       "      <th>Name</th>\n",
       "      <th>Age</th>\n",
       "      <th>Ticket</th>\n",
       "      <th>Fare</th>\n",
       "      <th>isAlone</th>\n",
       "      <th>Pclass_2</th>\n",
       "      <th>Pclass_3</th>\n",
       "      <th>Embarked_Q</th>\n",
       "      <th>Embarked_S</th>\n",
       "      <th>Sex_male</th>\n",
       "    </tr>\n",
       "  </thead>\n",
       "  <tbody>\n",
       "    <tr>\n",
       "      <th>0</th>\n",
       "      <td>1</td>\n",
       "      <td>0</td>\n",
       "      <td>Braund, Mr. Owen Harris</td>\n",
       "      <td>22.0</td>\n",
       "      <td>A/5 21171</td>\n",
       "      <td>7.2500</td>\n",
       "      <td>0</td>\n",
       "      <td>0</td>\n",
       "      <td>1</td>\n",
       "      <td>0</td>\n",
       "      <td>1</td>\n",
       "      <td>1</td>\n",
       "    </tr>\n",
       "    <tr>\n",
       "      <th>1</th>\n",
       "      <td>2</td>\n",
       "      <td>1</td>\n",
       "      <td>Cumings, Mrs. John Bradley (Florence Briggs Th...</td>\n",
       "      <td>38.0</td>\n",
       "      <td>PC 17599</td>\n",
       "      <td>71.2833</td>\n",
       "      <td>0</td>\n",
       "      <td>0</td>\n",
       "      <td>0</td>\n",
       "      <td>0</td>\n",
       "      <td>0</td>\n",
       "      <td>0</td>\n",
       "    </tr>\n",
       "    <tr>\n",
       "      <th>2</th>\n",
       "      <td>3</td>\n",
       "      <td>1</td>\n",
       "      <td>Heikkinen, Miss. Laina</td>\n",
       "      <td>26.0</td>\n",
       "      <td>STON/O2. 3101282</td>\n",
       "      <td>7.9250</td>\n",
       "      <td>1</td>\n",
       "      <td>0</td>\n",
       "      <td>1</td>\n",
       "      <td>0</td>\n",
       "      <td>1</td>\n",
       "      <td>0</td>\n",
       "    </tr>\n",
       "    <tr>\n",
       "      <th>3</th>\n",
       "      <td>4</td>\n",
       "      <td>1</td>\n",
       "      <td>Futrelle, Mrs. Jacques Heath (Lily May Peel)</td>\n",
       "      <td>35.0</td>\n",
       "      <td>113803</td>\n",
       "      <td>53.1000</td>\n",
       "      <td>0</td>\n",
       "      <td>0</td>\n",
       "      <td>0</td>\n",
       "      <td>0</td>\n",
       "      <td>1</td>\n",
       "      <td>0</td>\n",
       "    </tr>\n",
       "    <tr>\n",
       "      <th>4</th>\n",
       "      <td>5</td>\n",
       "      <td>0</td>\n",
       "      <td>Allen, Mr. William Henry</td>\n",
       "      <td>35.0</td>\n",
       "      <td>373450</td>\n",
       "      <td>8.0500</td>\n",
       "      <td>1</td>\n",
       "      <td>0</td>\n",
       "      <td>1</td>\n",
       "      <td>0</td>\n",
       "      <td>1</td>\n",
       "      <td>1</td>\n",
       "    </tr>\n",
       "  </tbody>\n",
       "</table>\n",
       "</div>"
      ],
      "text/plain": [
       "   PassengerId  Survived                                               Name  \\\n",
       "0            1         0                            Braund, Mr. Owen Harris   \n",
       "1            2         1  Cumings, Mrs. John Bradley (Florence Briggs Th...   \n",
       "2            3         1                             Heikkinen, Miss. Laina   \n",
       "3            4         1       Futrelle, Mrs. Jacques Heath (Lily May Peel)   \n",
       "4            5         0                           Allen, Mr. William Henry   \n",
       "\n",
       "    Age            Ticket     Fare  isAlone  Pclass_2  Pclass_3  Embarked_Q  \\\n",
       "0  22.0         A/5 21171   7.2500        0         0         1           0   \n",
       "1  38.0          PC 17599  71.2833        0         0         0           0   \n",
       "2  26.0  STON/O2. 3101282   7.9250        1         0         1           0   \n",
       "3  35.0            113803  53.1000        0         0         0           0   \n",
       "4  35.0            373450   8.0500        1         0         1           0   \n",
       "\n",
       "   Embarked_S  Sex_male  \n",
       "0           1         1  \n",
       "1           0         0  \n",
       "2           1         0  \n",
       "3           1         0  \n",
       "4           1         1  "
      ]
     },
     "execution_count": 32,
     "metadata": {},
     "output_type": "execute_result"
    }
   ],
   "source": [
    "train_data.head()"
   ]
  },
  {
   "cell_type": "code",
   "execution_count": 33,
   "id": "3e50416c",
   "metadata": {
    "execution": {
     "iopub.execute_input": "2023-03-19T15:29:57.988801Z",
     "iopub.status.busy": "2023-03-19T15:29:57.988209Z",
     "iopub.status.idle": "2023-03-19T15:29:58.005041Z",
     "shell.execute_reply": "2023-03-19T15:29:58.003698Z"
    },
    "papermill": {
     "duration": 0.052298,
     "end_time": "2023-03-19T15:29:58.007630",
     "exception": false,
     "start_time": "2023-03-19T15:29:57.955332",
     "status": "completed"
    },
    "tags": []
   },
   "outputs": [
    {
     "data": {
      "text/html": [
       "<div>\n",
       "<style scoped>\n",
       "    .dataframe tbody tr th:only-of-type {\n",
       "        vertical-align: middle;\n",
       "    }\n",
       "\n",
       "    .dataframe tbody tr th {\n",
       "        vertical-align: top;\n",
       "    }\n",
       "\n",
       "    .dataframe thead th {\n",
       "        text-align: right;\n",
       "    }\n",
       "</style>\n",
       "<table border=\"1\" class=\"dataframe\">\n",
       "  <thead>\n",
       "    <tr style=\"text-align: right;\">\n",
       "      <th></th>\n",
       "      <th>PassengerId</th>\n",
       "      <th>Name</th>\n",
       "      <th>Age</th>\n",
       "      <th>Ticket</th>\n",
       "      <th>Fare</th>\n",
       "      <th>isAlone</th>\n",
       "      <th>Pclass_2</th>\n",
       "      <th>Pclass_3</th>\n",
       "      <th>Embarked_Q</th>\n",
       "      <th>Embarked_S</th>\n",
       "      <th>Sex_male</th>\n",
       "    </tr>\n",
       "  </thead>\n",
       "  <tbody>\n",
       "    <tr>\n",
       "      <th>0</th>\n",
       "      <td>892</td>\n",
       "      <td>Kelly, Mr. James</td>\n",
       "      <td>34.5</td>\n",
       "      <td>330911</td>\n",
       "      <td>7.8292</td>\n",
       "      <td>1</td>\n",
       "      <td>0</td>\n",
       "      <td>1</td>\n",
       "      <td>1</td>\n",
       "      <td>0</td>\n",
       "      <td>1</td>\n",
       "    </tr>\n",
       "    <tr>\n",
       "      <th>1</th>\n",
       "      <td>893</td>\n",
       "      <td>Wilkes, Mrs. James (Ellen Needs)</td>\n",
       "      <td>47.0</td>\n",
       "      <td>363272</td>\n",
       "      <td>7.0000</td>\n",
       "      <td>0</td>\n",
       "      <td>0</td>\n",
       "      <td>1</td>\n",
       "      <td>0</td>\n",
       "      <td>1</td>\n",
       "      <td>0</td>\n",
       "    </tr>\n",
       "    <tr>\n",
       "      <th>2</th>\n",
       "      <td>894</td>\n",
       "      <td>Myles, Mr. Thomas Francis</td>\n",
       "      <td>62.0</td>\n",
       "      <td>240276</td>\n",
       "      <td>9.6875</td>\n",
       "      <td>1</td>\n",
       "      <td>1</td>\n",
       "      <td>0</td>\n",
       "      <td>1</td>\n",
       "      <td>0</td>\n",
       "      <td>1</td>\n",
       "    </tr>\n",
       "    <tr>\n",
       "      <th>3</th>\n",
       "      <td>895</td>\n",
       "      <td>Wirz, Mr. Albert</td>\n",
       "      <td>27.0</td>\n",
       "      <td>315154</td>\n",
       "      <td>8.6625</td>\n",
       "      <td>1</td>\n",
       "      <td>0</td>\n",
       "      <td>1</td>\n",
       "      <td>0</td>\n",
       "      <td>1</td>\n",
       "      <td>1</td>\n",
       "    </tr>\n",
       "    <tr>\n",
       "      <th>4</th>\n",
       "      <td>896</td>\n",
       "      <td>Hirvonen, Mrs. Alexander (Helga E Lindqvist)</td>\n",
       "      <td>22.0</td>\n",
       "      <td>3101298</td>\n",
       "      <td>12.2875</td>\n",
       "      <td>0</td>\n",
       "      <td>0</td>\n",
       "      <td>1</td>\n",
       "      <td>0</td>\n",
       "      <td>1</td>\n",
       "      <td>0</td>\n",
       "    </tr>\n",
       "  </tbody>\n",
       "</table>\n",
       "</div>"
      ],
      "text/plain": [
       "   PassengerId                                          Name   Age   Ticket  \\\n",
       "0          892                              Kelly, Mr. James  34.5   330911   \n",
       "1          893              Wilkes, Mrs. James (Ellen Needs)  47.0   363272   \n",
       "2          894                     Myles, Mr. Thomas Francis  62.0   240276   \n",
       "3          895                              Wirz, Mr. Albert  27.0   315154   \n",
       "4          896  Hirvonen, Mrs. Alexander (Helga E Lindqvist)  22.0  3101298   \n",
       "\n",
       "      Fare  isAlone  Pclass_2  Pclass_3  Embarked_Q  Embarked_S  Sex_male  \n",
       "0   7.8292        1         0         1           1           0         1  \n",
       "1   7.0000        0         0         1           0           1         0  \n",
       "2   9.6875        1         1         0           1           0         1  \n",
       "3   8.6625        1         0         1           0           1         1  \n",
       "4  12.2875        0         0         1           0           1         0  "
      ]
     },
     "execution_count": 33,
     "metadata": {},
     "output_type": "execute_result"
    }
   ],
   "source": [
    "test_data.head()"
   ]
  },
  {
   "cell_type": "markdown",
   "id": "0df2ea12",
   "metadata": {
    "papermill": {
     "duration": 0.031385,
     "end_time": "2023-03-19T15:29:58.071192",
     "exception": false,
     "start_time": "2023-03-19T15:29:58.039807",
     "status": "completed"
    },
    "tags": []
   },
   "source": [
    "Drop the unuseful columns:\"PassengerId\", \"Name\" and \"Ticket\" "
   ]
  },
  {
   "cell_type": "code",
   "execution_count": 34,
   "id": "3b3139f7",
   "metadata": {
    "execution": {
     "iopub.execute_input": "2023-03-19T15:29:58.136692Z",
     "iopub.status.busy": "2023-03-19T15:29:58.136247Z",
     "iopub.status.idle": "2023-03-19T15:29:58.150323Z",
     "shell.execute_reply": "2023-03-19T15:29:58.149072Z"
    },
    "papermill": {
     "duration": 0.050292,
     "end_time": "2023-03-19T15:29:58.153086",
     "exception": false,
     "start_time": "2023-03-19T15:29:58.102794",
     "status": "completed"
    },
    "tags": []
   },
   "outputs": [],
   "source": [
    "train_data.drop('PassengerId', axis=1, inplace=True)\n",
    "train_data.drop('Name', axis=1, inplace=True)\n",
    "train_data.drop('Ticket', axis=1, inplace=True)\n",
    "\n",
    "test_data.drop('PassengerId', axis=1, inplace=True)\n",
    "test_data.drop('Name', axis=1, inplace=True)\n",
    "test_data.drop('Ticket', axis=1, inplace=True)"
   ]
  },
  {
   "cell_type": "code",
   "execution_count": 35,
   "id": "3e186966",
   "metadata": {
    "execution": {
     "iopub.execute_input": "2023-03-19T15:29:58.218821Z",
     "iopub.status.busy": "2023-03-19T15:29:58.218360Z",
     "iopub.status.idle": "2023-03-19T15:29:58.233568Z",
     "shell.execute_reply": "2023-03-19T15:29:58.232364Z"
    },
    "papermill": {
     "duration": 0.050812,
     "end_time": "2023-03-19T15:29:58.235964",
     "exception": false,
     "start_time": "2023-03-19T15:29:58.185152",
     "status": "completed"
    },
    "tags": []
   },
   "outputs": [
    {
     "data": {
      "text/html": [
       "<div>\n",
       "<style scoped>\n",
       "    .dataframe tbody tr th:only-of-type {\n",
       "        vertical-align: middle;\n",
       "    }\n",
       "\n",
       "    .dataframe tbody tr th {\n",
       "        vertical-align: top;\n",
       "    }\n",
       "\n",
       "    .dataframe thead th {\n",
       "        text-align: right;\n",
       "    }\n",
       "</style>\n",
       "<table border=\"1\" class=\"dataframe\">\n",
       "  <thead>\n",
       "    <tr style=\"text-align: right;\">\n",
       "      <th></th>\n",
       "      <th>Survived</th>\n",
       "      <th>Age</th>\n",
       "      <th>Fare</th>\n",
       "      <th>isAlone</th>\n",
       "      <th>Pclass_2</th>\n",
       "      <th>Pclass_3</th>\n",
       "      <th>Embarked_Q</th>\n",
       "      <th>Embarked_S</th>\n",
       "      <th>Sex_male</th>\n",
       "    </tr>\n",
       "  </thead>\n",
       "  <tbody>\n",
       "    <tr>\n",
       "      <th>0</th>\n",
       "      <td>0</td>\n",
       "      <td>22.0</td>\n",
       "      <td>7.2500</td>\n",
       "      <td>0</td>\n",
       "      <td>0</td>\n",
       "      <td>1</td>\n",
       "      <td>0</td>\n",
       "      <td>1</td>\n",
       "      <td>1</td>\n",
       "    </tr>\n",
       "    <tr>\n",
       "      <th>1</th>\n",
       "      <td>1</td>\n",
       "      <td>38.0</td>\n",
       "      <td>71.2833</td>\n",
       "      <td>0</td>\n",
       "      <td>0</td>\n",
       "      <td>0</td>\n",
       "      <td>0</td>\n",
       "      <td>0</td>\n",
       "      <td>0</td>\n",
       "    </tr>\n",
       "    <tr>\n",
       "      <th>2</th>\n",
       "      <td>1</td>\n",
       "      <td>26.0</td>\n",
       "      <td>7.9250</td>\n",
       "      <td>1</td>\n",
       "      <td>0</td>\n",
       "      <td>1</td>\n",
       "      <td>0</td>\n",
       "      <td>1</td>\n",
       "      <td>0</td>\n",
       "    </tr>\n",
       "    <tr>\n",
       "      <th>3</th>\n",
       "      <td>1</td>\n",
       "      <td>35.0</td>\n",
       "      <td>53.1000</td>\n",
       "      <td>0</td>\n",
       "      <td>0</td>\n",
       "      <td>0</td>\n",
       "      <td>0</td>\n",
       "      <td>1</td>\n",
       "      <td>0</td>\n",
       "    </tr>\n",
       "    <tr>\n",
       "      <th>4</th>\n",
       "      <td>0</td>\n",
       "      <td>35.0</td>\n",
       "      <td>8.0500</td>\n",
       "      <td>1</td>\n",
       "      <td>0</td>\n",
       "      <td>1</td>\n",
       "      <td>0</td>\n",
       "      <td>1</td>\n",
       "      <td>1</td>\n",
       "    </tr>\n",
       "  </tbody>\n",
       "</table>\n",
       "</div>"
      ],
      "text/plain": [
       "   Survived   Age     Fare  isAlone  Pclass_2  Pclass_3  Embarked_Q  \\\n",
       "0         0  22.0   7.2500        0         0         1           0   \n",
       "1         1  38.0  71.2833        0         0         0           0   \n",
       "2         1  26.0   7.9250        1         0         1           0   \n",
       "3         1  35.0  53.1000        0         0         0           0   \n",
       "4         0  35.0   8.0500        1         0         1           0   \n",
       "\n",
       "   Embarked_S  Sex_male  \n",
       "0           1         1  \n",
       "1           0         0  \n",
       "2           1         0  \n",
       "3           1         0  \n",
       "4           1         1  "
      ]
     },
     "execution_count": 35,
     "metadata": {},
     "output_type": "execute_result"
    }
   ],
   "source": [
    "train_data.head()"
   ]
  },
  {
   "cell_type": "code",
   "execution_count": 36,
   "id": "483b0bd5",
   "metadata": {
    "execution": {
     "iopub.execute_input": "2023-03-19T15:29:58.302772Z",
     "iopub.status.busy": "2023-03-19T15:29:58.302351Z",
     "iopub.status.idle": "2023-03-19T15:29:58.316122Z",
     "shell.execute_reply": "2023-03-19T15:29:58.314855Z"
    },
    "papermill": {
     "duration": 0.050252,
     "end_time": "2023-03-19T15:29:58.318601",
     "exception": false,
     "start_time": "2023-03-19T15:29:58.268349",
     "status": "completed"
    },
    "tags": []
   },
   "outputs": [
    {
     "data": {
      "text/html": [
       "<div>\n",
       "<style scoped>\n",
       "    .dataframe tbody tr th:only-of-type {\n",
       "        vertical-align: middle;\n",
       "    }\n",
       "\n",
       "    .dataframe tbody tr th {\n",
       "        vertical-align: top;\n",
       "    }\n",
       "\n",
       "    .dataframe thead th {\n",
       "        text-align: right;\n",
       "    }\n",
       "</style>\n",
       "<table border=\"1\" class=\"dataframe\">\n",
       "  <thead>\n",
       "    <tr style=\"text-align: right;\">\n",
       "      <th></th>\n",
       "      <th>Age</th>\n",
       "      <th>Fare</th>\n",
       "      <th>isAlone</th>\n",
       "      <th>Pclass_2</th>\n",
       "      <th>Pclass_3</th>\n",
       "      <th>Embarked_Q</th>\n",
       "      <th>Embarked_S</th>\n",
       "      <th>Sex_male</th>\n",
       "    </tr>\n",
       "  </thead>\n",
       "  <tbody>\n",
       "    <tr>\n",
       "      <th>0</th>\n",
       "      <td>34.5</td>\n",
       "      <td>7.8292</td>\n",
       "      <td>1</td>\n",
       "      <td>0</td>\n",
       "      <td>1</td>\n",
       "      <td>1</td>\n",
       "      <td>0</td>\n",
       "      <td>1</td>\n",
       "    </tr>\n",
       "    <tr>\n",
       "      <th>1</th>\n",
       "      <td>47.0</td>\n",
       "      <td>7.0000</td>\n",
       "      <td>0</td>\n",
       "      <td>0</td>\n",
       "      <td>1</td>\n",
       "      <td>0</td>\n",
       "      <td>1</td>\n",
       "      <td>0</td>\n",
       "    </tr>\n",
       "    <tr>\n",
       "      <th>2</th>\n",
       "      <td>62.0</td>\n",
       "      <td>9.6875</td>\n",
       "      <td>1</td>\n",
       "      <td>1</td>\n",
       "      <td>0</td>\n",
       "      <td>1</td>\n",
       "      <td>0</td>\n",
       "      <td>1</td>\n",
       "    </tr>\n",
       "    <tr>\n",
       "      <th>3</th>\n",
       "      <td>27.0</td>\n",
       "      <td>8.6625</td>\n",
       "      <td>1</td>\n",
       "      <td>0</td>\n",
       "      <td>1</td>\n",
       "      <td>0</td>\n",
       "      <td>1</td>\n",
       "      <td>1</td>\n",
       "    </tr>\n",
       "    <tr>\n",
       "      <th>4</th>\n",
       "      <td>22.0</td>\n",
       "      <td>12.2875</td>\n",
       "      <td>0</td>\n",
       "      <td>0</td>\n",
       "      <td>1</td>\n",
       "      <td>0</td>\n",
       "      <td>1</td>\n",
       "      <td>0</td>\n",
       "    </tr>\n",
       "  </tbody>\n",
       "</table>\n",
       "</div>"
      ],
      "text/plain": [
       "    Age     Fare  isAlone  Pclass_2  Pclass_3  Embarked_Q  Embarked_S  \\\n",
       "0  34.5   7.8292        1         0         1           1           0   \n",
       "1  47.0   7.0000        0         0         1           0           1   \n",
       "2  62.0   9.6875        1         1         0           1           0   \n",
       "3  27.0   8.6625        1         0         1           0           1   \n",
       "4  22.0  12.2875        0         0         1           0           1   \n",
       "\n",
       "   Sex_male  \n",
       "0         1  \n",
       "1         0  \n",
       "2         1  \n",
       "3         1  \n",
       "4         0  "
      ]
     },
     "execution_count": 36,
     "metadata": {},
     "output_type": "execute_result"
    }
   ],
   "source": [
    "test_data.head()"
   ]
  },
  {
   "cell_type": "markdown",
   "id": "49f85816",
   "metadata": {
    "papermill": {
     "duration": 0.032923,
     "end_time": "2023-03-19T15:29:58.384948",
     "exception": false,
     "start_time": "2023-03-19T15:29:58.352025",
     "status": "completed"
    },
    "tags": []
   },
   "source": [
    "## 4.Exploratory Data Analysis (EDA)"
   ]
  },
  {
   "cell_type": "code",
   "execution_count": 37,
   "id": "aaebf98c",
   "metadata": {
    "execution": {
     "iopub.execute_input": "2023-03-19T15:29:58.452387Z",
     "iopub.status.busy": "2023-03-19T15:29:58.451975Z",
     "iopub.status.idle": "2023-03-19T15:29:58.458731Z",
     "shell.execute_reply": "2023-03-19T15:29:58.457306Z"
    },
    "papermill": {
     "duration": 0.043947,
     "end_time": "2023-03-19T15:29:58.461377",
     "exception": false,
     "start_time": "2023-03-19T15:29:58.417430",
     "status": "completed"
    },
    "tags": []
   },
   "outputs": [
    {
     "data": {
      "text/plain": [
       "(891, 9)"
      ]
     },
     "execution_count": 37,
     "metadata": {},
     "output_type": "execute_result"
    }
   ],
   "source": [
    "# shape of the train data\n",
    "train_data.shape"
   ]
  },
  {
   "cell_type": "code",
   "execution_count": 38,
   "id": "e9cea1dd",
   "metadata": {
    "execution": {
     "iopub.execute_input": "2023-03-19T15:29:58.528178Z",
     "iopub.status.busy": "2023-03-19T15:29:58.527760Z",
     "iopub.status.idle": "2023-03-19T15:29:58.534831Z",
     "shell.execute_reply": "2023-03-19T15:29:58.533979Z"
    },
    "papermill": {
     "duration": 0.043187,
     "end_time": "2023-03-19T15:29:58.536948",
     "exception": false,
     "start_time": "2023-03-19T15:29:58.493761",
     "status": "completed"
    },
    "tags": []
   },
   "outputs": [
    {
     "data": {
      "text/plain": [
       "Index(['Survived', 'Age', 'Fare', 'isAlone', 'Pclass_2', 'Pclass_3',\n",
       "       'Embarked_Q', 'Embarked_S', 'Sex_male'],\n",
       "      dtype='object')"
      ]
     },
     "execution_count": 38,
     "metadata": {},
     "output_type": "execute_result"
    }
   ],
   "source": [
    "# columns names\n",
    "col_names = train_data.columns\n",
    "col_names"
   ]
  },
  {
   "cell_type": "markdown",
   "id": "1e8c3ec3",
   "metadata": {
    "papermill": {
     "duration": 0.032589,
     "end_time": "2023-03-19T15:29:58.602127",
     "exception": false,
     "start_time": "2023-03-19T15:29:58.569538",
     "status": "completed"
    },
    "tags": []
   },
   "source": [
    "### 4.1 EDA for 'Age'"
   ]
  },
  {
   "cell_type": "code",
   "execution_count": 39,
   "id": "3f5e65a0",
   "metadata": {
    "execution": {
     "iopub.execute_input": "2023-03-19T15:29:58.669004Z",
     "iopub.status.busy": "2023-03-19T15:29:58.668548Z",
     "iopub.status.idle": "2023-03-19T15:29:59.019089Z",
     "shell.execute_reply": "2023-03-19T15:29:59.018158Z"
    },
    "papermill": {
     "duration": 0.386905,
     "end_time": "2023-03-19T15:29:59.021439",
     "exception": false,
     "start_time": "2023-03-19T15:29:58.634534",
     "status": "completed"
    },
    "tags": []
   },
   "outputs": [
    {
     "data": {
      "image/png": "[encoded data removed]",
      "text/plain": [
       "<Figure size 1500x800 with 1 Axes>"
      ]
     },
     "metadata": {},
     "output_type": "display_data"
    }
   ],
   "source": [
    "plt.figure(figsize=(15,8))\n",
    "\n",
    "# Survived == 1\n",
    "ax = sns.kdeplot(train_data[\"Age\"][train_data.Survived == 1], color=\"green\", shade=True)\n",
    "\n",
    "# Survived == 0\n",
    "sns.kdeplot(train_data[\"Age\"][train_data.Survived == 0], color=\"red\", shade=True)\n",
    "\n",
    "plt.legend(['Survived', 'Died'])\n",
    "plt.title('Density Plot of Age for Surviving Population and Deceased Population')\n",
    "ax.set(xlabel='Age')\n",
    "plt.xlim(-10,85)\n",
    "plt.show()"
   ]
  },
  {
   "cell_type": "markdown",
   "id": "cf2dde62",
   "metadata": {
    "papermill": {
     "duration": 0.033514,
     "end_time": "2023-03-19T15:29:59.089355",
     "exception": false,
     "start_time": "2023-03-19T15:29:59.055841",
     "status": "completed"
    },
    "tags": []
   },
   "source": [
    "The age distributions of survivors and those who died are quite similar.\n",
    "\n",
    "We can say that among the survivors, the proportion of children and young people is higher.\n",
    "\n",
    "This may be because parents are giving their children life jackets and boats to save theirs, instead of saving their own. (just conjecture of course)"
   ]
  },
  {
   "cell_type": "markdown",
   "id": "4b60bbe6",
   "metadata": {
    "execution": {
     "iopub.execute_input": "2023-03-19T13:03:08.036904Z",
     "iopub.status.busy": "2023-03-19T13:03:08.036548Z",
     "iopub.status.idle": "2023-03-19T13:03:08.041471Z",
     "shell.execute_reply": "2023-03-19T13:03:08.040387Z",
     "shell.execute_reply.started": "2023-03-19T13:03:08.036871Z"
    },
    "papermill": {
     "duration": 0.034152,
     "end_time": "2023-03-19T15:29:59.158974",
     "exception": false,
     "start_time": "2023-03-19T15:29:59.124822",
     "status": "completed"
    },
    "tags": []
   },
   "source": [
    "### 4.2 EDA for 'Fare'"
   ]
  },
  {
   "cell_type": "code",
   "execution_count": 40,
   "id": "133e0c7a",
   "metadata": {
    "execution": {
     "iopub.execute_input": "2023-03-19T15:29:59.229325Z",
     "iopub.status.busy": "2023-03-19T15:29:59.228858Z",
     "iopub.status.idle": "2023-03-19T15:29:59.576558Z",
     "shell.execute_reply": "2023-03-19T15:29:59.575340Z"
    },
    "papermill": {
     "duration": 0.38557,
     "end_time": "2023-03-19T15:29:59.579110",
     "exception": false,
     "start_time": "2023-03-19T15:29:59.193540",
     "status": "completed"
    },
    "tags": []
   },
   "outputs": [
    {
     "data": {
      "image/png": "[encoded data removed]",
      "text/plain": [
       "<Figure size 1500x800 with 1 Axes>"
      ]
     },
     "metadata": {},
     "output_type": "display_data"
    }
   ],
   "source": [
    "plt.figure(figsize=(15,8))\n",
    "\n",
    "ax = sns.kdeplot(train_data[\"Fare\"][train_data.Survived == 1], color=\"green\", shade=True)\n",
    "\n",
    "sns.kdeplot(train_data[\"Fare\"][train_data.Survived == 0], color=\"red\", shade=True)\n",
    "\n",
    "plt.legend(['Survived', 'Died'])\n",
    "plt.title('Density Plot of Fare for Surviving Population and Deceased Population')\n",
    "ax.set(xlabel='Fare')\n",
    "plt.xlim(-20,200)\n",
    "plt.show()"
   ]
  },
  {
   "cell_type": "markdown",
   "id": "c58c4b60",
   "metadata": {
    "papermill": {
     "duration": 0.034896,
     "end_time": "2023-03-19T15:29:59.649417",
     "exception": false,
     "start_time": "2023-03-19T15:29:59.614521",
     "status": "completed"
    },
    "tags": []
   },
   "source": [
    "When we look at the graph, we see that the survival and death rates are clearly separated from each other.\n",
    "\n",
    "Pay is likely to be an important factor in our model.\n",
    "\n",
    "Low fare passengers have a much higher death rate.\n",
    "\n",
    "Those who pay higher wages have a higher survival rate."
   ]
  },
  {
   "cell_type": "markdown",
   "id": "6ec1f73b",
   "metadata": {
    "papermill": {
     "duration": 0.036455,
     "end_time": "2023-03-19T15:29:59.720749",
     "exception": false,
     "start_time": "2023-03-19T15:29:59.684294",
     "status": "completed"
    },
    "tags": []
   },
   "source": [
    "### 4.3 EDA for 'Passenger Class'"
   ]
  },
  {
   "cell_type": "code",
   "execution_count": 41,
   "id": "faa3aac4",
   "metadata": {
    "execution": {
     "iopub.execute_input": "2023-03-19T15:29:59.793124Z",
     "iopub.status.busy": "2023-03-19T15:29:59.792686Z",
     "iopub.status.idle": "2023-03-19T15:30:00.074617Z",
     "shell.execute_reply": "2023-03-19T15:30:00.073324Z"
    },
    "papermill": {
     "duration": 0.32142,
     "end_time": "2023-03-19T15:30:00.077383",
     "exception": false,
     "start_time": "2023-03-19T15:29:59.755963",
     "status": "completed"
    },
    "tags": []
   },
   "outputs": [
    {
     "data": {
      "image/png": "[encoded data removed]",
      "text/plain": [
       "<Figure size 640x480 with 1 Axes>"
      ]
     },
     "metadata": {},
     "output_type": "display_data"
    }
   ],
   "source": [
    "sns.barplot(data=graph_data,x=\"Pclass\", y=\"Survived\",  color=\"red\")\n",
    "\n",
    "plt.show()"
   ]
  },
  {
   "cell_type": "markdown",
   "id": "5f57156e",
   "metadata": {
    "papermill": {
     "duration": 0.036431,
     "end_time": "2023-03-19T15:30:00.149594",
     "exception": false,
     "start_time": "2023-03-19T15:30:00.113163",
     "status": "completed"
    },
    "tags": []
   },
   "source": [
    "First class passengers have higher survival rates.\n",
    "\n",
    "Therefore, this confirms the assumption we made for Fare."
   ]
  },
  {
   "cell_type": "markdown",
   "id": "587c2501",
   "metadata": {
    "execution": {
     "iopub.execute_input": "2023-03-19T13:15:11.456840Z",
     "iopub.status.busy": "2023-03-19T13:15:11.456391Z",
     "iopub.status.idle": "2023-03-19T13:15:11.462613Z",
     "shell.execute_reply": "2023-03-19T13:15:11.461182Z",
     "shell.execute_reply.started": "2023-03-19T13:15:11.456803Z"
    },
    "papermill": {
     "duration": 0.034785,
     "end_time": "2023-03-19T15:30:00.219563",
     "exception": false,
     "start_time": "2023-03-19T15:30:00.184778",
     "status": "completed"
    },
    "tags": []
   },
   "source": [
    "### 4.4 EDA for 'isAlone'"
   ]
  },
  {
   "cell_type": "code",
   "execution_count": 42,
   "id": "b341a632",
   "metadata": {
    "execution": {
     "iopub.execute_input": "2023-03-19T15:30:00.291731Z",
     "iopub.status.busy": "2023-03-19T15:30:00.291012Z",
     "iopub.status.idle": "2023-03-19T15:30:00.524788Z",
     "shell.execute_reply": "2023-03-19T15:30:00.523569Z"
    },
    "papermill": {
     "duration": 0.272866,
     "end_time": "2023-03-19T15:30:00.527338",
     "exception": false,
     "start_time": "2023-03-19T15:30:00.254472",
     "status": "completed"
    },
    "tags": []
   },
   "outputs": [
    {
     "data": {
      "image/png": "[encoded data removed]",
      "text/plain": [
       "<Figure size 640x480 with 1 Axes>"
      ]
     },
     "metadata": {},
     "output_type": "display_data"
    }
   ],
   "source": [
    "sns.barplot(data=train_data,x='isAlone', y='Survived',  color=\"red\")\n",
    "\n",
    "plt.show()"
   ]
  },
  {
   "cell_type": "markdown",
   "id": "a89e4fe5",
   "metadata": {
    "papermill": {
     "duration": 0.0364,
     "end_time": "2023-03-19T15:30:00.598937",
     "exception": false,
     "start_time": "2023-03-19T15:30:00.562537",
     "status": "completed"
    },
    "tags": []
   },
   "source": [
    "Those traveling with family (isAlone = 0) have higher survival rates."
   ]
  },
  {
   "cell_type": "markdown",
   "id": "1fd3d066",
   "metadata": {
    "papermill": {
     "duration": 0.035894,
     "end_time": "2023-03-19T15:30:00.671370",
     "exception": false,
     "start_time": "2023-03-19T15:30:00.635476",
     "status": "completed"
    },
    "tags": []
   },
   "source": [
    "### 4.5 EDA for Sex"
   ]
  },
  {
   "cell_type": "code",
   "execution_count": 43,
   "id": "7e8c07e6",
   "metadata": {
    "execution": {
     "iopub.execute_input": "2023-03-19T15:30:00.744604Z",
     "iopub.status.busy": "2023-03-19T15:30:00.744135Z",
     "iopub.status.idle": "2023-03-19T15:30:00.990506Z",
     "shell.execute_reply": "2023-03-19T15:30:00.989283Z"
    },
    "papermill": {
     "duration": 0.286278,
     "end_time": "2023-03-19T15:30:00.993226",
     "exception": false,
     "start_time": "2023-03-19T15:30:00.706948",
     "status": "completed"
    },
    "tags": []
   },
   "outputs": [
    {
     "data": {
      "image/png": "[encoded data removed]",
      "text/plain": [
       "<Figure size 640x480 with 1 Axes>"
      ]
     },
     "metadata": {},
     "output_type": "display_data"
    }
   ],
   "source": [
    "sns.barplot(data=graph_data,x='Sex', y='Survived',color=\"red\")\n",
    "\n",
    "plt.show()"
   ]
  },
  {
   "cell_type": "markdown",
   "id": "22318314",
   "metadata": {
    "papermill": {
     "duration": 0.036188,
     "end_time": "2023-03-19T15:30:01.066277",
     "exception": false,
     "start_time": "2023-03-19T15:30:01.030089",
     "status": "completed"
    },
    "tags": []
   },
   "source": [
    "When we look at gender, we see a big difference between the survival rates of men and women.\n",
    "\n",
    "Survival rates for women are much higher."
   ]
  },
  {
   "cell_type": "markdown",
   "id": "fee2e978",
   "metadata": {
    "papermill": {
     "duration": 0.035678,
     "end_time": "2023-03-19T15:30:01.138203",
     "exception": false,
     "start_time": "2023-03-19T15:30:01.102525",
     "status": "completed"
    },
    "tags": []
   },
   "source": [
    "## 5.Input and Output separation"
   ]
  },
  {
   "cell_type": "code",
   "execution_count": 44,
   "id": "42ae884b",
   "metadata": {
    "execution": {
     "iopub.execute_input": "2023-03-19T15:30:01.211703Z",
     "iopub.status.busy": "2023-03-19T15:30:01.211241Z",
     "iopub.status.idle": "2023-03-19T15:30:01.218189Z",
     "shell.execute_reply": "2023-03-19T15:30:01.216810Z"
    },
    "papermill": {
     "duration": 0.046444,
     "end_time": "2023-03-19T15:30:01.220509",
     "exception": false,
     "start_time": "2023-03-19T15:30:01.174065",
     "status": "completed"
    },
    "tags": []
   },
   "outputs": [],
   "source": [
    "y=train_data[\"Survived\"]\n",
    "train_data=train_data.drop(\"Survived\",axis=1)"
   ]
  },
  {
   "cell_type": "markdown",
   "id": "c225d816",
   "metadata": {
    "papermill": {
     "duration": 0.108629,
     "end_time": "2023-03-19T15:30:01.365553",
     "exception": false,
     "start_time": "2023-03-19T15:30:01.256924",
     "status": "completed"
    },
    "tags": []
   },
   "source": [
    "## 6.Feature Scaling"
   ]
  },
  {
   "cell_type": "code",
   "execution_count": 45,
   "id": "99de1204",
   "metadata": {
    "execution": {
     "iopub.execute_input": "2023-03-19T15:30:01.441101Z",
     "iopub.status.busy": "2023-03-19T15:30:01.440190Z",
     "iopub.status.idle": "2023-03-19T15:30:01.477265Z",
     "shell.execute_reply": "2023-03-19T15:30:01.475996Z"
    },
    "papermill": {
     "duration": 0.077687,
     "end_time": "2023-03-19T15:30:01.479853",
     "exception": false,
     "start_time": "2023-03-19T15:30:01.402166",
     "status": "completed"
    },
    "tags": []
   },
   "outputs": [
    {
     "data": {
      "text/html": [
       "<div>\n",
       "<style scoped>\n",
       "    .dataframe tbody tr th:only-of-type {\n",
       "        vertical-align: middle;\n",
       "    }\n",
       "\n",
       "    .dataframe tbody tr th {\n",
       "        vertical-align: top;\n",
       "    }\n",
       "\n",
       "    .dataframe thead th {\n",
       "        text-align: right;\n",
       "    }\n",
       "</style>\n",
       "<table border=\"1\" class=\"dataframe\">\n",
       "  <thead>\n",
       "    <tr style=\"text-align: right;\">\n",
       "      <th></th>\n",
       "      <th>Age</th>\n",
       "      <th>Fare</th>\n",
       "      <th>isAlone</th>\n",
       "      <th>Pclass_2</th>\n",
       "      <th>Pclass_3</th>\n",
       "      <th>Embarked_Q</th>\n",
       "      <th>Embarked_S</th>\n",
       "      <th>Sex_male</th>\n",
       "    </tr>\n",
       "  </thead>\n",
       "  <tbody>\n",
       "    <tr>\n",
       "      <th>count</th>\n",
       "      <td>891.000000</td>\n",
       "      <td>891.000000</td>\n",
       "      <td>891.000000</td>\n",
       "      <td>891.000000</td>\n",
       "      <td>891.000000</td>\n",
       "      <td>891.000000</td>\n",
       "      <td>891.000000</td>\n",
       "      <td>891.000000</td>\n",
       "    </tr>\n",
       "    <tr>\n",
       "      <th>mean</th>\n",
       "      <td>29.361582</td>\n",
       "      <td>32.204208</td>\n",
       "      <td>0.602694</td>\n",
       "      <td>0.206510</td>\n",
       "      <td>0.551066</td>\n",
       "      <td>0.086420</td>\n",
       "      <td>0.725028</td>\n",
       "      <td>0.647587</td>\n",
       "    </tr>\n",
       "    <tr>\n",
       "      <th>std</th>\n",
       "      <td>13.019697</td>\n",
       "      <td>49.693429</td>\n",
       "      <td>0.489615</td>\n",
       "      <td>0.405028</td>\n",
       "      <td>0.497665</td>\n",
       "      <td>0.281141</td>\n",
       "      <td>0.446751</td>\n",
       "      <td>0.477990</td>\n",
       "    </tr>\n",
       "    <tr>\n",
       "      <th>min</th>\n",
       "      <td>0.420000</td>\n",
       "      <td>0.000000</td>\n",
       "      <td>0.000000</td>\n",
       "      <td>0.000000</td>\n",
       "      <td>0.000000</td>\n",
       "      <td>0.000000</td>\n",
       "      <td>0.000000</td>\n",
       "      <td>0.000000</td>\n",
       "    </tr>\n",
       "    <tr>\n",
       "      <th>25%</th>\n",
       "      <td>22.000000</td>\n",
       "      <td>7.910400</td>\n",
       "      <td>0.000000</td>\n",
       "      <td>0.000000</td>\n",
       "      <td>0.000000</td>\n",
       "      <td>0.000000</td>\n",
       "      <td>0.000000</td>\n",
       "      <td>0.000000</td>\n",
       "    </tr>\n",
       "    <tr>\n",
       "      <th>50%</th>\n",
       "      <td>28.000000</td>\n",
       "      <td>14.454200</td>\n",
       "      <td>1.000000</td>\n",
       "      <td>0.000000</td>\n",
       "      <td>1.000000</td>\n",
       "      <td>0.000000</td>\n",
       "      <td>1.000000</td>\n",
       "      <td>1.000000</td>\n",
       "    </tr>\n",
       "    <tr>\n",
       "      <th>75%</th>\n",
       "      <td>35.000000</td>\n",
       "      <td>31.000000</td>\n",
       "      <td>1.000000</td>\n",
       "      <td>0.000000</td>\n",
       "      <td>1.000000</td>\n",
       "      <td>0.000000</td>\n",
       "      <td>1.000000</td>\n",
       "      <td>1.000000</td>\n",
       "    </tr>\n",
       "    <tr>\n",
       "      <th>max</th>\n",
       "      <td>80.000000</td>\n",
       "      <td>512.329200</td>\n",
       "      <td>1.000000</td>\n",
       "      <td>1.000000</td>\n",
       "      <td>1.000000</td>\n",
       "      <td>1.000000</td>\n",
       "      <td>1.000000</td>\n",
       "      <td>1.000000</td>\n",
       "    </tr>\n",
       "  </tbody>\n",
       "</table>\n",
       "</div>"
      ],
      "text/plain": [
       "              Age        Fare     isAlone    Pclass_2    Pclass_3  Embarked_Q  \\\n",
       "count  891.000000  891.000000  891.000000  891.000000  891.000000  891.000000   \n",
       "mean    29.361582   32.204208    0.602694    0.206510    0.551066    0.086420   \n",
       "std     13.019697   49.693429    0.489615    0.405028    0.497665    0.281141   \n",
       "min      0.420000    0.000000    0.000000    0.000000    0.000000    0.000000   \n",
       "25%     22.000000    7.910400    0.000000    0.000000    0.000000    0.000000   \n",
       "50%     28.000000   14.454200    1.000000    0.000000    1.000000    0.000000   \n",
       "75%     35.000000   31.000000    1.000000    0.000000    1.000000    0.000000   \n",
       "max     80.000000  512.329200    1.000000    1.000000    1.000000    1.000000   \n",
       "\n",
       "       Embarked_S    Sex_male  \n",
       "count  891.000000  891.000000  \n",
       "mean     0.725028    0.647587  \n",
       "std      0.446751    0.477990  \n",
       "min      0.000000    0.000000  \n",
       "25%      0.000000    0.000000  \n",
       "50%      1.000000    1.000000  \n",
       "75%      1.000000    1.000000  \n",
       "max      1.000000    1.000000  "
      ]
     },
     "execution_count": 45,
     "metadata": {},
     "output_type": "execute_result"
    }
   ],
   "source": [
    "# seeing the train data\n",
    "train_data.describe()"
   ]
  },
  {
   "cell_type": "code",
   "execution_count": 46,
   "id": "8ef941d3",
   "metadata": {
    "execution": {
     "iopub.execute_input": "2023-03-19T15:30:01.557662Z",
     "iopub.status.busy": "2023-03-19T15:30:01.556334Z",
     "iopub.status.idle": "2023-03-19T15:30:01.565151Z",
     "shell.execute_reply": "2023-03-19T15:30:01.564130Z"
    },
    "papermill": {
     "duration": 0.050375,
     "end_time": "2023-03-19T15:30:01.567614",
     "exception": false,
     "start_time": "2023-03-19T15:30:01.517239",
     "status": "completed"
    },
    "tags": []
   },
   "outputs": [
    {
     "data": {
      "text/plain": [
       "Index(['Age', 'Fare', 'isAlone', 'Pclass_2', 'Pclass_3', 'Embarked_Q',\n",
       "       'Embarked_S', 'Sex_male'],\n",
       "      dtype='object')"
      ]
     },
     "execution_count": 46,
     "metadata": {},
     "output_type": "execute_result"
    }
   ],
   "source": [
    "#columns name\n",
    "cols = train_data.columns\n",
    "\n",
    "cols"
   ]
  },
  {
   "cell_type": "code",
   "execution_count": 47,
   "id": "51921695",
   "metadata": {
    "execution": {
     "iopub.execute_input": "2023-03-19T15:30:01.644595Z",
     "iopub.status.busy": "2023-03-19T15:30:01.643138Z",
     "iopub.status.idle": "2023-03-19T15:30:01.819285Z",
     "shell.execute_reply": "2023-03-19T15:30:01.817918Z"
    },
    "papermill": {
     "duration": 0.217995,
     "end_time": "2023-03-19T15:30:01.822374",
     "exception": false,
     "start_time": "2023-03-19T15:30:01.604379",
     "status": "completed"
    },
    "tags": []
   },
   "outputs": [],
   "source": [
    "#import MinMaxScaler\n",
    "from sklearn.preprocessing import MinMaxScaler\n",
    "\n",
    "scaler = MinMaxScaler()"
   ]
  },
  {
   "cell_type": "code",
   "execution_count": 48,
   "id": "64617564",
   "metadata": {
    "execution": {
     "iopub.execute_input": "2023-03-19T15:30:01.898521Z",
     "iopub.status.busy": "2023-03-19T15:30:01.898082Z",
     "iopub.status.idle": "2023-03-19T15:30:01.907527Z",
     "shell.execute_reply": "2023-03-19T15:30:01.906554Z"
    },
    "papermill": {
     "duration": 0.050482,
     "end_time": "2023-03-19T15:30:01.910209",
     "exception": false,
     "start_time": "2023-03-19T15:30:01.859727",
     "status": "completed"
    },
    "tags": []
   },
   "outputs": [],
   "source": [
    "# let's train the scaler on train data\n",
    "# scale the train data\n",
    "train_data = scaler.fit_transform(train_data)"
   ]
  },
  {
   "cell_type": "code",
   "execution_count": 49,
   "id": "dac9e26b",
   "metadata": {
    "execution": {
     "iopub.execute_input": "2023-03-19T15:30:01.986534Z",
     "iopub.status.busy": "2023-03-19T15:30:01.985710Z",
     "iopub.status.idle": "2023-03-19T15:30:01.992468Z",
     "shell.execute_reply": "2023-03-19T15:30:01.991427Z"
    },
    "papermill": {
     "duration": 0.047533,
     "end_time": "2023-03-19T15:30:01.994908",
     "exception": false,
     "start_time": "2023-03-19T15:30:01.947375",
     "status": "completed"
    },
    "tags": []
   },
   "outputs": [
    {
     "data": {
      "text/plain": [
       "numpy.ndarray"
      ]
     },
     "execution_count": 49,
     "metadata": {},
     "output_type": "execute_result"
    }
   ],
   "source": [
    "type(train_data)"
   ]
  },
  {
   "cell_type": "code",
   "execution_count": 50,
   "id": "52a405fe",
   "metadata": {
    "execution": {
     "iopub.execute_input": "2023-03-19T15:30:02.070911Z",
     "iopub.status.busy": "2023-03-19T15:30:02.069987Z",
     "iopub.status.idle": "2023-03-19T15:30:02.076158Z",
     "shell.execute_reply": "2023-03-19T15:30:02.075085Z"
    },
    "papermill": {
     "duration": 0.047021,
     "end_time": "2023-03-19T15:30:02.078763",
     "exception": false,
     "start_time": "2023-03-19T15:30:02.031742",
     "status": "completed"
    },
    "tags": []
   },
   "outputs": [],
   "source": [
    "#converting it to DataFrame again\n",
    "train_data=pd.DataFrame(train_data,columns=[cols])"
   ]
  },
  {
   "cell_type": "code",
   "execution_count": 51,
   "id": "9b11089b",
   "metadata": {
    "execution": {
     "iopub.execute_input": "2023-03-19T15:30:02.156553Z",
     "iopub.status.busy": "2023-03-19T15:30:02.155715Z",
     "iopub.status.idle": "2023-03-19T15:30:02.177174Z",
     "shell.execute_reply": "2023-03-19T15:30:02.175602Z"
    },
    "papermill": {
     "duration": 0.063784,
     "end_time": "2023-03-19T15:30:02.180162",
     "exception": false,
     "start_time": "2023-03-19T15:30:02.116378",
     "status": "completed"
    },
    "tags": []
   },
   "outputs": [
    {
     "data": {
      "text/html": [
       "<div>\n",
       "<style scoped>\n",
       "    .dataframe tbody tr th:only-of-type {\n",
       "        vertical-align: middle;\n",
       "    }\n",
       "\n",
       "    .dataframe tbody tr th {\n",
       "        vertical-align: top;\n",
       "    }\n",
       "\n",
       "    .dataframe thead tr th {\n",
       "        text-align: left;\n",
       "    }\n",
       "</style>\n",
       "<table border=\"1\" class=\"dataframe\">\n",
       "  <thead>\n",
       "    <tr>\n",
       "      <th></th>\n",
       "      <th>Age</th>\n",
       "      <th>Fare</th>\n",
       "      <th>isAlone</th>\n",
       "      <th>Pclass_2</th>\n",
       "      <th>Pclass_3</th>\n",
       "      <th>Embarked_Q</th>\n",
       "      <th>Embarked_S</th>\n",
       "      <th>Sex_male</th>\n",
       "    </tr>\n",
       "  </thead>\n",
       "  <tbody>\n",
       "    <tr>\n",
       "      <th>0</th>\n",
       "      <td>0.271174</td>\n",
       "      <td>0.014151</td>\n",
       "      <td>0.0</td>\n",
       "      <td>0.0</td>\n",
       "      <td>1.0</td>\n",
       "      <td>0.0</td>\n",
       "      <td>1.0</td>\n",
       "      <td>1.0</td>\n",
       "    </tr>\n",
       "    <tr>\n",
       "      <th>1</th>\n",
       "      <td>0.472229</td>\n",
       "      <td>0.139136</td>\n",
       "      <td>0.0</td>\n",
       "      <td>0.0</td>\n",
       "      <td>0.0</td>\n",
       "      <td>0.0</td>\n",
       "      <td>0.0</td>\n",
       "      <td>0.0</td>\n",
       "    </tr>\n",
       "    <tr>\n",
       "      <th>2</th>\n",
       "      <td>0.321438</td>\n",
       "      <td>0.015469</td>\n",
       "      <td>1.0</td>\n",
       "      <td>0.0</td>\n",
       "      <td>1.0</td>\n",
       "      <td>0.0</td>\n",
       "      <td>1.0</td>\n",
       "      <td>0.0</td>\n",
       "    </tr>\n",
       "    <tr>\n",
       "      <th>3</th>\n",
       "      <td>0.434531</td>\n",
       "      <td>0.103644</td>\n",
       "      <td>0.0</td>\n",
       "      <td>0.0</td>\n",
       "      <td>0.0</td>\n",
       "      <td>0.0</td>\n",
       "      <td>1.0</td>\n",
       "      <td>0.0</td>\n",
       "    </tr>\n",
       "    <tr>\n",
       "      <th>4</th>\n",
       "      <td>0.434531</td>\n",
       "      <td>0.015713</td>\n",
       "      <td>1.0</td>\n",
       "      <td>0.0</td>\n",
       "      <td>1.0</td>\n",
       "      <td>0.0</td>\n",
       "      <td>1.0</td>\n",
       "      <td>1.0</td>\n",
       "    </tr>\n",
       "  </tbody>\n",
       "</table>\n",
       "</div>"
      ],
      "text/plain": [
       "        Age      Fare isAlone Pclass_2 Pclass_3 Embarked_Q Embarked_S Sex_male\n",
       "0  0.271174  0.014151     0.0      0.0      1.0        0.0        1.0      1.0\n",
       "1  0.472229  0.139136     0.0      0.0      0.0        0.0        0.0      0.0\n",
       "2  0.321438  0.015469     1.0      0.0      1.0        0.0        1.0      0.0\n",
       "3  0.434531  0.103644     0.0      0.0      0.0        0.0        1.0      0.0\n",
       "4  0.434531  0.015713     1.0      0.0      1.0        0.0        1.0      1.0"
      ]
     },
     "execution_count": 51,
     "metadata": {},
     "output_type": "execute_result"
    }
   ],
   "source": [
    "train_data.head()"
   ]
  },
  {
   "cell_type": "markdown",
   "id": "e686848f",
   "metadata": {
    "papermill": {
     "duration": 0.037822,
     "end_time": "2023-03-19T15:30:02.255106",
     "exception": false,
     "start_time": "2023-03-19T15:30:02.217284",
     "status": "completed"
    },
    "tags": []
   },
   "source": [
    "## 7.Train-Test Split"
   ]
  },
  {
   "cell_type": "code",
   "execution_count": 52,
   "id": "3cb9e39e",
   "metadata": {
    "execution": {
     "iopub.execute_input": "2023-03-19T15:30:02.334873Z",
     "iopub.status.busy": "2023-03-19T15:30:02.334397Z",
     "iopub.status.idle": "2023-03-19T15:30:02.415649Z",
     "shell.execute_reply": "2023-03-19T15:30:02.414210Z"
    },
    "papermill": {
     "duration": 0.123244,
     "end_time": "2023-03-19T15:30:02.418933",
     "exception": false,
     "start_time": "2023-03-19T15:30:02.295689",
     "status": "completed"
    },
    "tags": []
   },
   "outputs": [],
   "source": [
    "#import train_test_split\n",
    "from sklearn.model_selection import train_test_split"
   ]
  },
  {
   "cell_type": "code",
   "execution_count": 53,
   "id": "bf0e42c2",
   "metadata": {
    "execution": {
     "iopub.execute_input": "2023-03-19T15:30:02.497048Z",
     "iopub.status.busy": "2023-03-19T15:30:02.495857Z",
     "iopub.status.idle": "2023-03-19T15:30:02.505440Z",
     "shell.execute_reply": "2023-03-19T15:30:02.504083Z"
    },
    "papermill": {
     "duration": 0.051487,
     "end_time": "2023-03-19T15:30:02.508164",
     "exception": false,
     "start_time": "2023-03-19T15:30:02.456677",
     "status": "completed"
    },
    "tags": []
   },
   "outputs": [],
   "source": [
    "X_train, X_test, y_train, y_test = train_test_split(train_data, y, test_size=0.2, random_state=2)"
   ]
  },
  {
   "cell_type": "code",
   "execution_count": 54,
   "id": "ffdebb75",
   "metadata": {
    "execution": {
     "iopub.execute_input": "2023-03-19T15:30:02.583984Z",
     "iopub.status.busy": "2023-03-19T15:30:02.583534Z",
     "iopub.status.idle": "2023-03-19T15:30:02.590954Z",
     "shell.execute_reply": "2023-03-19T15:30:02.589706Z"
    },
    "papermill": {
     "duration": 0.048007,
     "end_time": "2023-03-19T15:30:02.593260",
     "exception": false,
     "start_time": "2023-03-19T15:30:02.545253",
     "status": "completed"
    },
    "tags": []
   },
   "outputs": [
    {
     "data": {
      "text/plain": [
       "(712, 8)"
      ]
     },
     "execution_count": 54,
     "metadata": {},
     "output_type": "execute_result"
    }
   ],
   "source": [
    "# Shape of the X_train\n",
    "X_train.shape"
   ]
  },
  {
   "cell_type": "code",
   "execution_count": 55,
   "id": "a44330b8",
   "metadata": {
    "execution": {
     "iopub.execute_input": "2023-03-19T15:30:02.673272Z",
     "iopub.status.busy": "2023-03-19T15:30:02.672783Z",
     "iopub.status.idle": "2023-03-19T15:30:02.678881Z",
     "shell.execute_reply": "2023-03-19T15:30:02.677936Z"
    },
    "papermill": {
     "duration": 0.048412,
     "end_time": "2023-03-19T15:30:02.681308",
     "exception": false,
     "start_time": "2023-03-19T15:30:02.632896",
     "status": "completed"
    },
    "tags": []
   },
   "outputs": [
    {
     "data": {
      "text/plain": [
       "(179, 8)"
      ]
     },
     "execution_count": 55,
     "metadata": {},
     "output_type": "execute_result"
    }
   ],
   "source": [
    "# Shape of the X_test\n",
    "X_test.shape"
   ]
  },
  {
   "cell_type": "code",
   "execution_count": 56,
   "id": "3ff19bb0",
   "metadata": {
    "execution": {
     "iopub.execute_input": "2023-03-19T15:30:02.772848Z",
     "iopub.status.busy": "2023-03-19T15:30:02.771904Z",
     "iopub.status.idle": "2023-03-19T15:30:02.780311Z",
     "shell.execute_reply": "2023-03-19T15:30:02.778874Z"
    },
    "papermill": {
     "duration": 0.061675,
     "end_time": "2023-03-19T15:30:02.783129",
     "exception": false,
     "start_time": "2023-03-19T15:30:02.721454",
     "status": "completed"
    },
    "tags": []
   },
   "outputs": [
    {
     "data": {
      "text/plain": [
       "(712,)"
      ]
     },
     "execution_count": 56,
     "metadata": {},
     "output_type": "execute_result"
    }
   ],
   "source": [
    "# Shape of the y_train\n",
    "y_train.shape"
   ]
  },
  {
   "cell_type": "code",
   "execution_count": 57,
   "id": "80708d78",
   "metadata": {
    "execution": {
     "iopub.execute_input": "2023-03-19T15:30:02.865921Z",
     "iopub.status.busy": "2023-03-19T15:30:02.864743Z",
     "iopub.status.idle": "2023-03-19T15:30:02.872936Z",
     "shell.execute_reply": "2023-03-19T15:30:02.871596Z"
    },
    "papermill": {
     "duration": 0.049794,
     "end_time": "2023-03-19T15:30:02.875538",
     "exception": false,
     "start_time": "2023-03-19T15:30:02.825744",
     "status": "completed"
    },
    "tags": []
   },
   "outputs": [
    {
     "data": {
      "text/plain": [
       "(179,)"
      ]
     },
     "execution_count": 57,
     "metadata": {},
     "output_type": "execute_result"
    }
   ],
   "source": [
    "# Shape of the y_test\n",
    "y_test.shape"
   ]
  },
  {
   "cell_type": "markdown",
   "id": "f3270a65",
   "metadata": {
    "papermill": {
     "duration": 0.036876,
     "end_time": "2023-03-19T15:30:02.950908",
     "exception": false,
     "start_time": "2023-03-19T15:30:02.914032",
     "status": "completed"
    },
    "tags": []
   },
   "source": [
    "## 8.Model, Predict and Accuracy"
   ]
  },
  {
   "cell_type": "markdown",
   "id": "c78d006f",
   "metadata": {
    "papermill": {
     "duration": 0.036703,
     "end_time": "2023-03-19T15:30:03.024879",
     "exception": false,
     "start_time": "2023-03-19T15:30:02.988176",
     "status": "completed"
    },
    "tags": []
   },
   "source": [
    "### 8.1 Logistic Regression"
   ]
  },
  {
   "cell_type": "code",
   "execution_count": 58,
   "id": "f7ef0515",
   "metadata": {
    "execution": {
     "iopub.execute_input": "2023-03-19T15:30:03.102301Z",
     "iopub.status.busy": "2023-03-19T15:30:03.101858Z",
     "iopub.status.idle": "2023-03-19T15:30:06.857553Z",
     "shell.execute_reply": "2023-03-19T15:30:06.855476Z"
    },
    "papermill": {
     "duration": 3.798662,
     "end_time": "2023-03-19T15:30:06.860511",
     "exception": false,
     "start_time": "2023-03-19T15:30:03.061849",
     "status": "completed"
    },
    "tags": []
   },
   "outputs": [
    {
     "name": "stdout",
     "output_type": "stream",
     "text": [
      "tuned hpyerparameters :(best parameters)  {'C': 0.2, 'penalty': 'l2', 'solver': 'lbfgs'}\n",
      "accuracy : 0.8019170579029733\n"
     ]
    }
   ],
   "source": [
    "from sklearn.model_selection import GridSearchCV\n",
    "from sklearn.linear_model import LogisticRegression\n",
    "grid={\"C\":[0,0.2,0.4,0.6,0.8,1.0],\"solver\":[\"lbfgs\", \"liblinear\", \"newton-cg\", \"newton-cholesky\", \"sag\", \"saga\"] ,\"penalty\":[\"l1\",\"l2\"]}\n",
    "logreg=LogisticRegression()\n",
    "logreg_cv=GridSearchCV(logreg,grid,cv=10)\n",
    "logreg_cv.fit(X_train,y_train)\n",
    "\n",
    "print(\"tuned hpyerparameters :(best parameters) \",logreg_cv.best_params_)\n",
    "print(\"accuracy :\",logreg_cv.best_score_)"
   ]
  },
  {
   "cell_type": "code",
   "execution_count": 59,
   "id": "0f9d7533",
   "metadata": {
    "execution": {
     "iopub.execute_input": "2023-03-19T15:30:06.939502Z",
     "iopub.status.busy": "2023-03-19T15:30:06.938993Z",
     "iopub.status.idle": "2023-03-19T15:30:06.955818Z",
     "shell.execute_reply": "2023-03-19T15:30:06.954165Z"
    },
    "papermill": {
     "duration": 0.059782,
     "end_time": "2023-03-19T15:30:06.958598",
     "exception": false,
     "start_time": "2023-03-19T15:30:06.898816",
     "status": "completed"
    },
    "tags": []
   },
   "outputs": [],
   "source": [
    "lr_best=LogisticRegression(C=0.2,penalty=\"l2\",solver=\"lbfgs\")\n",
    "lr_best.fit(X_train,y_train)\n",
    "y_pred=lr_best.predict(X_test)"
   ]
  },
  {
   "cell_type": "code",
   "execution_count": 60,
   "id": "9d584eee",
   "metadata": {
    "execution": {
     "iopub.execute_input": "2023-03-19T15:30:07.036271Z",
     "iopub.status.busy": "2023-03-19T15:30:07.035226Z",
     "iopub.status.idle": "2023-03-19T15:30:07.044123Z",
     "shell.execute_reply": "2023-03-19T15:30:07.042857Z"
    },
    "papermill": {
     "duration": 0.050627,
     "end_time": "2023-03-19T15:30:07.046363",
     "exception": false,
     "start_time": "2023-03-19T15:30:06.995736",
     "status": "completed"
    },
    "tags": []
   },
   "outputs": [
    {
     "data": {
      "text/plain": [
       "0.7486033519553073"
      ]
     },
     "execution_count": 60,
     "metadata": {},
     "output_type": "execute_result"
    }
   ],
   "source": [
    "from sklearn.metrics import accuracy_score,confusion_matrix\n",
    "lr_accuracy=accuracy_score(y_test,y_pred)\n",
    "lr_accuracy"
   ]
  },
  {
   "cell_type": "code",
   "execution_count": 61,
   "id": "e973e200",
   "metadata": {
    "execution": {
     "iopub.execute_input": "2023-03-19T15:30:07.123808Z",
     "iopub.status.busy": "2023-03-19T15:30:07.123359Z",
     "iopub.status.idle": "2023-03-19T15:30:07.396334Z",
     "shell.execute_reply": "2023-03-19T15:30:07.395352Z"
    },
    "papermill": {
     "duration": 0.314722,
     "end_time": "2023-03-19T15:30:07.398685",
     "exception": false,
     "start_time": "2023-03-19T15:30:07.083963",
     "status": "completed"
    },
    "tags": []
   },
   "outputs": [
    {
     "data": {
      "text/plain": [
       "<AxesSubplot:>"
      ]
     },
     "execution_count": 61,
     "metadata": {},
     "output_type": "execute_result"
    },
    {
     "data": {
      "image/png": "[encoded data removed]",
      "text/plain": [
       "<Figure size 700x500 with 2 Axes>"
      ]
     },
     "metadata": {},
     "output_type": "display_data"
    }
   ],
   "source": [
    "cm=confusion_matrix(y_test,y_pred)\n",
    "\n",
    "lr_df=pd.DataFrame(cm,index=[i for i in [\"0\",\"1\"]],columns=[i for i in [\"Predict 0\",\"Predict 1\"]])\n",
    "\n",
    "plt.figure(figsize=(7,5))\n",
    "sns.heatmap(lr_df,annot=True)"
   ]
  },
  {
   "cell_type": "markdown",
   "id": "06f14b5c",
   "metadata": {
    "papermill": {
     "duration": 0.036934,
     "end_time": "2023-03-19T15:30:07.473584",
     "exception": false,
     "start_time": "2023-03-19T15:30:07.436650",
     "status": "completed"
    },
    "tags": []
   },
   "source": [
    "### 8.2 Gaussian Naive Bayes"
   ]
  },
  {
   "cell_type": "code",
   "execution_count": 62,
   "id": "de6b7cdf",
   "metadata": {
    "execution": {
     "iopub.execute_input": "2023-03-19T15:30:07.550971Z",
     "iopub.status.busy": "2023-03-19T15:30:07.550230Z",
     "iopub.status.idle": "2023-03-19T15:30:07.571946Z",
     "shell.execute_reply": "2023-03-19T15:30:07.570832Z"
    },
    "papermill": {
     "duration": 0.063784,
     "end_time": "2023-03-19T15:30:07.574872",
     "exception": false,
     "start_time": "2023-03-19T15:30:07.511088",
     "status": "completed"
    },
    "tags": []
   },
   "outputs": [
    {
     "data": {
      "text/plain": [
       "0.7374301675977654"
      ]
     },
     "execution_count": 62,
     "metadata": {},
     "output_type": "execute_result"
    }
   ],
   "source": [
    "from sklearn.naive_bayes import GaussianNB\n",
    "gnb=GaussianNB()\n",
    "gnb.fit(X_train,y_train)\n",
    "y_pred=gnb.predict(X_test)\n",
    "gnb_accuracy=accuracy_score(y_test,y_pred)\n",
    "gnb_accuracy"
   ]
  },
  {
   "cell_type": "code",
   "execution_count": 63,
   "id": "ec1eb323",
   "metadata": {
    "execution": {
     "iopub.execute_input": "2023-03-19T15:30:07.653691Z",
     "iopub.status.busy": "2023-03-19T15:30:07.652781Z",
     "iopub.status.idle": "2023-03-19T15:30:07.925745Z",
     "shell.execute_reply": "2023-03-19T15:30:07.924699Z"
    },
    "papermill": {
     "duration": 0.314841,
     "end_time": "2023-03-19T15:30:07.928300",
     "exception": false,
     "start_time": "2023-03-19T15:30:07.613459",
     "status": "completed"
    },
    "tags": []
   },
   "outputs": [
    {
     "data": {
      "text/plain": [
       "<AxesSubplot:>"
      ]
     },
     "execution_count": 63,
     "metadata": {},
     "output_type": "execute_result"
    },
    {
     "data": {
      "image/png": "[encoded data removed]",
      "text/plain": [
       "<Figure size 700x500 with 2 Axes>"
      ]
     },
     "metadata": {},
     "output_type": "display_data"
    }
   ],
   "source": [
    "cm=confusion_matrix(y_test,y_pred)\n",
    "\n",
    "gnb_df=pd.DataFrame(cm,index=[i for i in [\"0\",\"1\"]],columns=[i for i in [\"Predict 0\",\"Predict 1\"]])\n",
    "\n",
    "plt.figure(figsize=(7,5))\n",
    "sns.heatmap(gnb_df,annot=True)"
   ]
  },
  {
   "cell_type": "markdown",
   "id": "5346014c",
   "metadata": {
    "papermill": {
     "duration": 0.039346,
     "end_time": "2023-03-19T15:30:08.006140",
     "exception": false,
     "start_time": "2023-03-19T15:30:07.966794",
     "status": "completed"
    },
    "tags": []
   },
   "source": [
    "### 8.3 K-Nearest Neighbors"
   ]
  },
  {
   "cell_type": "code",
   "execution_count": 64,
   "id": "8f18a3ff",
   "metadata": {
    "execution": {
     "iopub.execute_input": "2023-03-19T15:30:08.084853Z",
     "iopub.status.busy": "2023-03-19T15:30:08.084023Z",
     "iopub.status.idle": "2023-03-19T15:30:09.349939Z",
     "shell.execute_reply": "2023-03-19T15:30:09.348530Z"
    },
    "papermill": {
     "duration": 1.308289,
     "end_time": "2023-03-19T15:30:09.352623",
     "exception": false,
     "start_time": "2023-03-19T15:30:08.044334",
     "status": "completed"
    },
    "tags": []
   },
   "outputs": [
    {
     "name": "stdout",
     "output_type": "stream",
     "text": [
      "tuned hpyerparameters :(best parameters)  {'n_neighbors': 19, 'weights': 'uniform'}\n",
      "accuracy : 0.8160015649452269\n"
     ]
    }
   ],
   "source": [
    "from sklearn.model_selection import GridSearchCV\n",
    "from sklearn.neighbors import KNeighborsClassifier\n",
    "grid={\"n_neighbors\":[15,17,19,21,23,25,27],\"weights\":[\"uniform\",\"distance\"]}\n",
    "knn=KNeighborsClassifier()\n",
    "knn_cv=GridSearchCV(knn,grid,cv=10)\n",
    "knn_cv.fit(X_train,y_train)\n",
    "\n",
    "print(\"tuned hpyerparameters :(best parameters) \",knn_cv.best_params_)\n",
    "print(\"accuracy :\",knn_cv.best_score_)"
   ]
  },
  {
   "cell_type": "code",
   "execution_count": 65,
   "id": "e99ea82e",
   "metadata": {
    "execution": {
     "iopub.execute_input": "2023-03-19T15:30:09.432206Z",
     "iopub.status.busy": "2023-03-19T15:30:09.431744Z",
     "iopub.status.idle": "2023-03-19T15:30:09.452749Z",
     "shell.execute_reply": "2023-03-19T15:30:09.451532Z"
    },
    "papermill": {
     "duration": 0.06372,
     "end_time": "2023-03-19T15:30:09.455100",
     "exception": false,
     "start_time": "2023-03-19T15:30:09.391380",
     "status": "completed"
    },
    "tags": []
   },
   "outputs": [
    {
     "data": {
      "text/plain": [
       "0.7597765363128491"
      ]
     },
     "execution_count": 65,
     "metadata": {},
     "output_type": "execute_result"
    }
   ],
   "source": [
    "knn_best=KNeighborsClassifier(n_neighbors=19,weights=\"uniform\")\n",
    "knn_best.fit(X_train,y_train)\n",
    "y_pred=knn_best.predict(X_test)\n",
    "knn_accuracy=accuracy_score(y_test,y_pred)\n",
    "knn_accuracy"
   ]
  },
  {
   "cell_type": "code",
   "execution_count": 66,
   "id": "a828c46c",
   "metadata": {
    "execution": {
     "iopub.execute_input": "2023-03-19T15:30:09.534429Z",
     "iopub.status.busy": "2023-03-19T15:30:09.533613Z",
     "iopub.status.idle": "2023-03-19T15:30:09.739556Z",
     "shell.execute_reply": "2023-03-19T15:30:09.738232Z"
    },
    "papermill": {
     "duration": 0.248348,
     "end_time": "2023-03-19T15:30:09.741988",
     "exception": false,
     "start_time": "2023-03-19T15:30:09.493640",
     "status": "completed"
    },
    "tags": []
   },
   "outputs": [
    {
     "data": {
      "text/plain": [
       "<AxesSubplot:>"
      ]
     },
     "execution_count": 66,
     "metadata": {},
     "output_type": "execute_result"
    },
    {
     "data": {
      "image/png": "[encoded data removed]",
      "text/plain": [
       "<Figure size 700x500 with 2 Axes>"
      ]
     },
     "metadata": {},
     "output_type": "display_data"
    }
   ],
   "source": [
    "cm=confusion_matrix(y_test,y_pred)\n",
    "\n",
    "knn_df=pd.DataFrame(cm,index=[i for i in [\"0\",\"1\"]],columns=[i for i in [\"Predict 0\",\"Predict 1\"]])\n",
    "\n",
    "plt.figure(figsize=(7,5))\n",
    "sns.heatmap(knn_df,annot=True)"
   ]
  },
  {
   "cell_type": "markdown",
   "id": "fd729eb7",
   "metadata": {
    "execution": {
     "iopub.execute_input": "2023-03-19T14:09:09.254213Z",
     "iopub.status.busy": "2023-03-19T14:09:09.253827Z",
     "iopub.status.idle": "2023-03-19T14:09:09.258558Z",
     "shell.execute_reply": "2023-03-19T14:09:09.257348Z",
     "shell.execute_reply.started": "2023-03-19T14:09:09.254179Z"
    },
    "papermill": {
     "duration": 0.03882,
     "end_time": "2023-03-19T15:30:09.820560",
     "exception": false,
     "start_time": "2023-03-19T15:30:09.781740",
     "status": "completed"
    },
    "tags": []
   },
   "source": [
    "## 8.3 Support Vector Machine"
   ]
  },
  {
   "cell_type": "code",
   "execution_count": 67,
   "id": "8f80a034",
   "metadata": {
    "execution": {
     "iopub.execute_input": "2023-03-19T15:30:09.901401Z",
     "iopub.status.busy": "2023-03-19T15:30:09.900040Z",
     "iopub.status.idle": "2023-03-19T15:30:17.905950Z",
     "shell.execute_reply": "2023-03-19T15:30:17.904309Z"
    },
    "papermill": {
     "duration": 8.049709,
     "end_time": "2023-03-19T15:30:17.908888",
     "exception": false,
     "start_time": "2023-03-19T15:30:09.859179",
     "status": "completed"
    },
    "tags": []
   },
   "outputs": [
    {
     "name": "stdout",
     "output_type": "stream",
     "text": [
      "tuned hpyerparameters :(best parameters)  {'C': 0.2, 'gamma': 'scale', 'kernel': 'rbf'}\n",
      "accuracy : 0.8230242566510173\n"
     ]
    }
   ],
   "source": [
    "from sklearn.model_selection import GridSearchCV\n",
    "from sklearn.svm import SVC\n",
    "grid={\"C\":[0.2,0.4,0.6,0.8,1],\"gamma\":[\"scale\", \"auto\"],\"kernel\":[\"linear\", \"poly\", \"rbf\", \"sigmoid\"]}\n",
    "svm=SVC()\n",
    "svm_cv=GridSearchCV(svm,grid,cv=10)\n",
    "svm_cv.fit(X_train,y_train)\n",
    "\n",
    "print(\"tuned hpyerparameters :(best parameters) \",svm_cv.best_params_)\n",
    "print(\"accuracy :\",svm_cv.best_score_)"
   ]
  },
  {
   "cell_type": "code",
   "execution_count": 68,
   "id": "61b9cc78",
   "metadata": {
    "execution": {
     "iopub.execute_input": "2023-03-19T15:30:17.989392Z",
     "iopub.status.busy": "2023-03-19T15:30:17.988958Z",
     "iopub.status.idle": "2023-03-19T15:30:18.021765Z",
     "shell.execute_reply": "2023-03-19T15:30:18.020499Z"
    },
    "papermill": {
     "duration": 0.076237,
     "end_time": "2023-03-19T15:30:18.024392",
     "exception": false,
     "start_time": "2023-03-19T15:30:17.948155",
     "status": "completed"
    },
    "tags": []
   },
   "outputs": [
    {
     "data": {
      "text/plain": [
       "0.7653631284916201"
      ]
     },
     "execution_count": 68,
     "metadata": {},
     "output_type": "execute_result"
    }
   ],
   "source": [
    "svm_best=SVC(C=0.2,gamma=\"scale\",kernel=\"rbf\")\n",
    "svm_best.fit(X_train,y_train)\n",
    "y_pred=svm_best.predict(X_test)\n",
    "svm_accuracy=accuracy_score(y_test,y_pred)\n",
    "svm_accuracy"
   ]
  },
  {
   "cell_type": "code",
   "execution_count": 69,
   "id": "edee2bda",
   "metadata": {
    "execution": {
     "iopub.execute_input": "2023-03-19T15:30:18.104631Z",
     "iopub.status.busy": "2023-03-19T15:30:18.103240Z",
     "iopub.status.idle": "2023-03-19T15:30:18.296039Z",
     "shell.execute_reply": "2023-03-19T15:30:18.294756Z"
    },
    "papermill": {
     "duration": 0.235714,
     "end_time": "2023-03-19T15:30:18.298773",
     "exception": false,
     "start_time": "2023-03-19T15:30:18.063059",
     "status": "completed"
    },
    "tags": []
   },
   "outputs": [
    {
     "data": {
      "text/plain": [
       "<AxesSubplot:>"
      ]
     },
     "execution_count": 69,
     "metadata": {},
     "output_type": "execute_result"
    },
    {
     "data": {
      "image/png": "[encoded data removed]",
      "text/plain": [
       "<Figure size 700x500 with 2 Axes>"
      ]
     },
     "metadata": {},
     "output_type": "display_data"
    }
   ],
   "source": [
    "cm=confusion_matrix(y_test,y_pred)\n",
    "\n",
    "svm_df=pd.DataFrame(cm,index=[i for i in [\"0\",\"1\"]],columns=[i for i in [\"Predict 0\",\"Predict 1\"]])\n",
    "\n",
    "plt.figure(figsize=(7,5))\n",
    "sns.heatmap(svm_df,annot=True)"
   ]
  },
  {
   "cell_type": "markdown",
   "id": "2db1a7cf",
   "metadata": {
    "papermill": {
     "duration": 0.038885,
     "end_time": "2023-03-19T15:30:18.377269",
     "exception": false,
     "start_time": "2023-03-19T15:30:18.338384",
     "status": "completed"
    },
    "tags": []
   },
   "source": [
    "## 8.4 Decision Tree"
   ]
  },
  {
   "cell_type": "code",
   "execution_count": 70,
   "id": "03bcd3fb",
   "metadata": {
    "execution": {
     "iopub.execute_input": "2023-03-19T15:30:18.457889Z",
     "iopub.status.busy": "2023-03-19T15:30:18.457431Z",
     "iopub.status.idle": "2023-03-19T15:30:19.016060Z",
     "shell.execute_reply": "2023-03-19T15:30:19.014591Z"
    },
    "papermill": {
     "duration": 0.601964,
     "end_time": "2023-03-19T15:30:19.018556",
     "exception": false,
     "start_time": "2023-03-19T15:30:18.416592",
     "status": "completed"
    },
    "tags": []
   },
   "outputs": [
    {
     "name": "stdout",
     "output_type": "stream",
     "text": [
      "tuned hpyerparameters :(best parameters)  {'criterion': 'gini', 'max_depth': 5}\n",
      "accuracy : 0.8230633802816902\n"
     ]
    }
   ],
   "source": [
    "from sklearn.model_selection import GridSearchCV\n",
    "from sklearn.tree import DecisionTreeClassifier\n",
    "grid={\"criterion\":[\"gini\",\"entropy\",\"log_loss\"],\"max_depth\":[1,3,5,7]}\n",
    "dtc=DecisionTreeClassifier()\n",
    "dtc_cv=GridSearchCV(dtc,grid,cv=10)\n",
    "dtc_cv.fit(X_train,y_train)\n",
    "\n",
    "print(\"tuned hpyerparameters :(best parameters) \",dtc_cv.best_params_)\n",
    "print(\"accuracy :\",dtc_cv.best_score_)"
   ]
  },
  {
   "cell_type": "code",
   "execution_count": 71,
   "id": "72476db9",
   "metadata": {
    "execution": {
     "iopub.execute_input": "2023-03-19T15:30:19.100199Z",
     "iopub.status.busy": "2023-03-19T15:30:19.099752Z",
     "iopub.status.idle": "2023-03-19T15:30:19.114194Z",
     "shell.execute_reply": "2023-03-19T15:30:19.112765Z"
    },
    "papermill": {
     "duration": 0.058767,
     "end_time": "2023-03-19T15:30:19.116637",
     "exception": false,
     "start_time": "2023-03-19T15:30:19.057870",
     "status": "completed"
    },
    "tags": []
   },
   "outputs": [
    {
     "data": {
      "text/plain": [
       "0.776536312849162"
      ]
     },
     "execution_count": 71,
     "metadata": {},
     "output_type": "execute_result"
    }
   ],
   "source": [
    "dtc_best=DecisionTreeClassifier(criterion=\"gini\",max_depth=5)\n",
    "dtc_best.fit(X_train,y_train)\n",
    "y_pred=dtc_best.predict(X_test)\n",
    "dtc_accuracy=accuracy_score(y_test,y_pred)\n",
    "dtc_accuracy"
   ]
  },
  {
   "cell_type": "code",
   "execution_count": 72,
   "id": "21ef271a",
   "metadata": {
    "execution": {
     "iopub.execute_input": "2023-03-19T15:30:19.199247Z",
     "iopub.status.busy": "2023-03-19T15:30:19.198233Z",
     "iopub.status.idle": "2023-03-19T15:30:19.436745Z",
     "shell.execute_reply": "2023-03-19T15:30:19.435298Z"
    },
    "papermill": {
     "duration": 0.282245,
     "end_time": "2023-03-19T15:30:19.439520",
     "exception": false,
     "start_time": "2023-03-19T15:30:19.157275",
     "status": "completed"
    },
    "tags": []
   },
   "outputs": [
    {
     "data": {
      "text/plain": [
       "<AxesSubplot:>"
      ]
     },
     "execution_count": 72,
     "metadata": {},
     "output_type": "execute_result"
    },
    {
     "data": {
      "image/png": "[encoded data removed]",
      "text/plain": [
       "<Figure size 700x500 with 2 Axes>"
      ]
     },
     "metadata": {},
     "output_type": "display_data"
    }
   ],
   "source": [
    "cm=confusion_matrix(y_test,y_pred)\n",
    "\n",
    "dtc_df=pd.DataFrame(cm,index=[i for i in [\"0\",\"1\"]],columns=[i for i in [\"Predict 0\",\"Predict 1\"]])\n",
    "\n",
    "plt.figure(figsize=(7,5))\n",
    "sns.heatmap(dtc_df,annot=True)"
   ]
  },
  {
   "cell_type": "markdown",
   "id": "32610709",
   "metadata": {
    "papermill": {
     "duration": 0.039445,
     "end_time": "2023-03-19T15:30:19.519264",
     "exception": false,
     "start_time": "2023-03-19T15:30:19.479819",
     "status": "completed"
    },
    "tags": []
   },
   "source": [
    "### 8.5 AdaBoost"
   ]
  },
  {
   "cell_type": "code",
   "execution_count": 73,
   "id": "28cabd1f",
   "metadata": {
    "execution": {
     "iopub.execute_input": "2023-03-19T15:30:19.600424Z",
     "iopub.status.busy": "2023-03-19T15:30:19.599993Z",
     "iopub.status.idle": "2023-03-19T15:30:30.498539Z",
     "shell.execute_reply": "2023-03-19T15:30:30.496893Z"
    },
    "papermill": {
     "duration": 10.942381,
     "end_time": "2023-03-19T15:30:30.501280",
     "exception": false,
     "start_time": "2023-03-19T15:30:19.558899",
     "status": "completed"
    },
    "tags": []
   },
   "outputs": [
    {
     "name": "stdout",
     "output_type": "stream",
     "text": [
      "tuned hpyerparameters :(best parameters)  {'learning_rate': 1, 'n_estimators': 15}\n",
      "accuracy : 0.8187402190923319\n"
     ]
    }
   ],
   "source": [
    "from sklearn.model_selection import GridSearchCV\n",
    "from sklearn.ensemble import AdaBoostClassifier\n",
    "grid={\"n_estimators\":[10,15,20,25,30],\"learning_rate\":[0,0.2,0.4,0.6,0.8,1]}\n",
    "abc=AdaBoostClassifier()\n",
    "abc_cv=GridSearchCV(abc,grid,cv=10)\n",
    "abc_cv.fit(X_train,y_train)\n",
    "\n",
    "print(\"tuned hpyerparameters :(best parameters) \",abc_cv.best_params_)\n",
    "print(\"accuracy :\",abc_cv.best_score_)"
   ]
  },
  {
   "cell_type": "code",
   "execution_count": 74,
   "id": "c525169e",
   "metadata": {
    "execution": {
     "iopub.execute_input": "2023-03-19T15:30:30.583965Z",
     "iopub.status.busy": "2023-03-19T15:30:30.583268Z",
     "iopub.status.idle": "2023-03-19T15:30:30.626578Z",
     "shell.execute_reply": "2023-03-19T15:30:30.625351Z"
    },
    "papermill": {
     "duration": 0.087522,
     "end_time": "2023-03-19T15:30:30.629083",
     "exception": false,
     "start_time": "2023-03-19T15:30:30.541561",
     "status": "completed"
    },
    "tags": []
   },
   "outputs": [
    {
     "data": {
      "text/plain": [
       "0.7541899441340782"
      ]
     },
     "execution_count": 74,
     "metadata": {},
     "output_type": "execute_result"
    }
   ],
   "source": [
    "abc_best=AdaBoostClassifier(learning_rate=1,n_estimators=15)\n",
    "abc_best.fit(X_train,y_train)\n",
    "y_pred=abc_best.predict(X_test)\n",
    "abc_accuracy=accuracy_score(y_test,y_pred)\n",
    "abc_accuracy"
   ]
  },
  {
   "cell_type": "code",
   "execution_count": 75,
   "id": "3917916c",
   "metadata": {
    "execution": {
     "iopub.execute_input": "2023-03-19T15:30:30.712803Z",
     "iopub.status.busy": "2023-03-19T15:30:30.711423Z",
     "iopub.status.idle": "2023-03-19T15:30:30.979310Z",
     "shell.execute_reply": "2023-03-19T15:30:30.978284Z"
    },
    "papermill": {
     "duration": 0.312901,
     "end_time": "2023-03-19T15:30:30.981771",
     "exception": false,
     "start_time": "2023-03-19T15:30:30.668870",
     "status": "completed"
    },
    "tags": []
   },
   "outputs": [
    {
     "data": {
      "text/plain": [
       "<AxesSubplot:>"
      ]
     },
     "execution_count": 75,
     "metadata": {},
     "output_type": "execute_result"
    },
    {
     "data": {
      "image/png": "[encoded data removed]",
      "text/plain": [
       "<Figure size 700x500 with 2 Axes>"
      ]
     },
     "metadata": {},
     "output_type": "display_data"
    }
   ],
   "source": [
    "cm=confusion_matrix(y_test,y_pred)\n",
    "\n",
    "abc_df=pd.DataFrame(cm,index=[i for i in [\"0\",\"1\"]],columns=[i for i in [\"Predict 0\",\"Predict 1\"]])\n",
    "\n",
    "plt.figure(figsize=(7,5))\n",
    "sns.heatmap(abc_df,annot=True)"
   ]
  },
  {
   "cell_type": "markdown",
   "id": "1706139f",
   "metadata": {
    "papermill": {
     "duration": 0.040381,
     "end_time": "2023-03-19T15:30:31.063167",
     "exception": false,
     "start_time": "2023-03-19T15:30:31.022786",
     "status": "completed"
    },
    "tags": []
   },
   "source": [
    "### 8.6 XGBoost"
   ]
  },
  {
   "cell_type": "code",
   "execution_count": 76,
   "id": "028857b0",
   "metadata": {
    "execution": {
     "iopub.execute_input": "2023-03-19T15:30:31.150999Z",
     "iopub.status.busy": "2023-03-19T15:30:31.150095Z",
     "iopub.status.idle": "2023-03-19T15:32:21.018151Z",
     "shell.execute_reply": "2023-03-19T15:32:21.016446Z"
    },
    "papermill": {
     "duration": 109.96712,
     "end_time": "2023-03-19T15:32:21.071812",
     "exception": false,
     "start_time": "2023-03-19T15:30:31.104692",
     "status": "completed"
    },
    "tags": []
   },
   "outputs": [
    {
     "name": "stdout",
     "output_type": "stream",
     "text": [
      "tuned hpyerparameters :(best parameters)  {'learning_rate': 0.2, 'max_depth': 2, 'n_estimators': 30}\n",
      "accuracy : 0.8399256651017213\n"
     ]
    }
   ],
   "source": [
    "from sklearn.model_selection import GridSearchCV\n",
    "from xgboost import XGBClassifier\n",
    "grid={\"n_estimators\":[10,15,20,25,30],\"learning_rate\":[0,0.2,0.4,0.6,0.8,1],\"max_depth\":[2,3,4,5,6]}\n",
    "xgb=XGBClassifier()\n",
    "xgb_cv=GridSearchCV(xgb,grid,cv=10)\n",
    "xgb_cv.fit(X_train,y_train)\n",
    "\n",
    "print(\"tuned hpyerparameters :(best parameters) \",xgb_cv.best_params_)\n",
    "print(\"accuracy :\",xgb_cv.best_score_)"
   ]
  },
  {
   "cell_type": "code",
   "execution_count": 77,
   "id": "6301d19b",
   "metadata": {
    "execution": {
     "iopub.execute_input": "2023-03-19T15:32:21.164556Z",
     "iopub.status.busy": "2023-03-19T15:32:21.164023Z",
     "iopub.status.idle": "2023-03-19T15:32:21.510592Z",
     "shell.execute_reply": "2023-03-19T15:32:21.509579Z"
    },
    "papermill": {
     "duration": 0.392864,
     "end_time": "2023-03-19T15:32:21.513551",
     "exception": false,
     "start_time": "2023-03-19T15:32:21.120687",
     "status": "completed"
    },
    "tags": []
   },
   "outputs": [
    {
     "data": {
      "text/plain": [
       "0.7653631284916201"
      ]
     },
     "execution_count": 77,
     "metadata": {},
     "output_type": "execute_result"
    }
   ],
   "source": [
    "xgb_best=XGBClassifier(n_estimators=30,learning_rate=0.2,max_depth=2)\n",
    "xgb_best.fit(X_train,y_train)\n",
    "y_pred=xgb_best.predict(X_test)\n",
    "xgb_accuracy=accuracy_score(y_test,y_pred)\n",
    "xgb_accuracy"
   ]
  },
  {
   "cell_type": "code",
   "execution_count": 78,
   "id": "341f9a13",
   "metadata": {
    "execution": {
     "iopub.execute_input": "2023-03-19T15:32:21.599877Z",
     "iopub.status.busy": "2023-03-19T15:32:21.598720Z",
     "iopub.status.idle": "2023-03-19T15:32:21.878185Z",
     "shell.execute_reply": "2023-03-19T15:32:21.876909Z"
    },
    "papermill": {
     "duration": 0.32467,
     "end_time": "2023-03-19T15:32:21.880930",
     "exception": false,
     "start_time": "2023-03-19T15:32:21.556260",
     "status": "completed"
    },
    "tags": []
   },
   "outputs": [
    {
     "data": {
      "text/plain": [
       "<AxesSubplot:>"
      ]
     },
     "execution_count": 78,
     "metadata": {},
     "output_type": "execute_result"
    },
    {
     "data": {
      "image/png": "[encoded data removed]",
      "text/plain": [
       "<Figure size 700x500 with 2 Axes>"
      ]
     },
     "metadata": {},
     "output_type": "display_data"
    }
   ],
   "source": [
    "cm=confusion_matrix(y_test,y_pred)\n",
    "\n",
    "xgb_df=pd.DataFrame(cm,index=[i for i in [\"0\",\"1\"]],columns=[i for i in [\"Predict 0\",\"Predict 1\"]])\n",
    "\n",
    "plt.figure(figsize=(7,5))\n",
    "sns.heatmap(xgb_df,annot=True)"
   ]
  },
  {
   "cell_type": "markdown",
   "id": "eb34b0b6",
   "metadata": {
    "papermill": {
     "duration": 0.041372,
     "end_time": "2023-03-19T15:32:21.964116",
     "exception": false,
     "start_time": "2023-03-19T15:32:21.922744",
     "status": "completed"
    },
    "tags": []
   },
   "source": [
    "## 8.7 GradientBoost"
   ]
  },
  {
   "cell_type": "code",
   "execution_count": 79,
   "id": "04ebc379",
   "metadata": {
    "execution": {
     "iopub.execute_input": "2023-03-19T15:32:22.050662Z",
     "iopub.status.busy": "2023-03-19T15:32:22.049207Z",
     "iopub.status.idle": "2023-03-19T15:33:05.446284Z",
     "shell.execute_reply": "2023-03-19T15:33:05.444849Z"
    },
    "papermill": {
     "duration": 43.484664,
     "end_time": "2023-03-19T15:33:05.490537",
     "exception": false,
     "start_time": "2023-03-19T15:32:22.005873",
     "status": "completed"
    },
    "tags": []
   },
   "outputs": [
    {
     "name": "stdout",
     "output_type": "stream",
     "text": [
      "tuned hpyerparameters :(best parameters)  {'learning_rate': 0.6, 'max_depth': 4, 'n_estimators': 20}\n",
      "accuracy : 0.8524843505477309\n"
     ]
    }
   ],
   "source": [
    "from sklearn.model_selection import GridSearchCV\n",
    "from sklearn.ensemble import GradientBoostingClassifier\n",
    "grid={\"n_estimators\":[10,15,20,25,30],\"learning_rate\":[0,0.2,0.4,0.6,0.8,1],\"max_depth\":[2,3,4,5,6]}\n",
    "gbc=GradientBoostingClassifier()\n",
    "gbc_cv=GridSearchCV(gbc,grid,cv=10)\n",
    "gbc_cv.fit(X_train,y_train)\n",
    "\n",
    "print(\"tuned hpyerparameters :(best parameters) \",gbc_cv.best_params_)\n",
    "print(\"accuracy :\",gbc_cv.best_score_)"
   ]
  },
  {
   "cell_type": "code",
   "execution_count": 80,
   "id": "3c9fff4b",
   "metadata": {
    "execution": {
     "iopub.execute_input": "2023-03-19T15:33:05.578664Z",
     "iopub.status.busy": "2023-03-19T15:33:05.577149Z",
     "iopub.status.idle": "2023-03-19T15:33:05.613200Z",
     "shell.execute_reply": "2023-03-19T15:33:05.611832Z"
    },
    "papermill": {
     "duration": 0.08184,
     "end_time": "2023-03-19T15:33:05.616088",
     "exception": false,
     "start_time": "2023-03-19T15:33:05.534248",
     "status": "completed"
    },
    "tags": []
   },
   "outputs": [
    {
     "data": {
      "text/plain": [
       "0.7821229050279329"
      ]
     },
     "execution_count": 80,
     "metadata": {},
     "output_type": "execute_result"
    }
   ],
   "source": [
    "gbc_best=GradientBoostingClassifier(n_estimators=15,learning_rate=0.6,max_depth=4)\n",
    "gbc_best.fit(X_train,y_train)\n",
    "y_pred=gbc_best.predict(X_test)\n",
    "gbc_accuracy=accuracy_score(y_test,y_pred)\n",
    "gbc_accuracy"
   ]
  },
  {
   "cell_type": "code",
   "execution_count": 81,
   "id": "02601bb1",
   "metadata": {
    "execution": {
     "iopub.execute_input": "2023-03-19T15:33:05.701246Z",
     "iopub.status.busy": "2023-03-19T15:33:05.700839Z",
     "iopub.status.idle": "2023-03-19T15:33:05.970499Z",
     "shell.execute_reply": "2023-03-19T15:33:05.969200Z"
    },
    "papermill": {
     "duration": 0.315344,
     "end_time": "2023-03-19T15:33:05.973198",
     "exception": false,
     "start_time": "2023-03-19T15:33:05.657854",
     "status": "completed"
    },
    "tags": []
   },
   "outputs": [
    {
     "data": {
      "text/plain": [
       "<AxesSubplot:>"
      ]
     },
     "execution_count": 81,
     "metadata": {},
     "output_type": "execute_result"
    },
    {
     "data": {
      "image/png": "[encoded data removed]",
      "text/plain": [
       "<Figure size 700x500 with 2 Axes>"
      ]
     },
     "metadata": {},
     "output_type": "display_data"
    }
   ],
   "source": [
    "cm=confusion_matrix(y_test,y_pred)\n",
    "\n",
    "gbc_df=pd.DataFrame(cm,index=[i for i in [\"0\",\"1\"]],columns=[i for i in [\"Predict 0\",\"Predict 1\"]])\n",
    "\n",
    "plt.figure(figsize=(7,5))\n",
    "sns.heatmap(gbc_df,annot=True)"
   ]
  },
  {
   "cell_type": "markdown",
   "id": "2adb4a90",
   "metadata": {
    "papermill": {
     "duration": 0.040761,
     "end_time": "2023-03-19T15:33:06.055883",
     "exception": false,
     "start_time": "2023-03-19T15:33:06.015122",
     "status": "completed"
    },
    "tags": []
   },
   "source": [
    "## Random Forest"
   ]
  },
  {
   "cell_type": "code",
   "execution_count": 82,
   "id": "0de1f8d7",
   "metadata": {
    "execution": {
     "iopub.execute_input": "2023-03-19T15:33:06.141828Z",
     "iopub.status.busy": "2023-03-19T15:33:06.141394Z",
     "iopub.status.idle": "2023-03-19T15:35:13.973880Z",
     "shell.execute_reply": "2023-03-19T15:35:13.972903Z"
    },
    "papermill": {
     "duration": 127.922789,
     "end_time": "2023-03-19T15:35:14.019804",
     "exception": false,
     "start_time": "2023-03-19T15:33:06.097015",
     "status": "completed"
    },
    "tags": []
   },
   "outputs": [
    {
     "name": "stdout",
     "output_type": "stream",
     "text": [
      "tuned hpyerparameters :(best parameters)  {'criterion': 'gini', 'max_depth': 5, 'max_features': 4, 'n_estimators': 15}\n",
      "accuracy : 0.8398865414710486\n"
     ]
    }
   ],
   "source": [
    "from sklearn.model_selection import GridSearchCV\n",
    "from sklearn.ensemble import RandomForestClassifier\n",
    "grid={\"n_estimators\":[10,15,20,25,30],\"max_depth\":[2,3,4,5,6],\"criterion\":[\"gini\",\"entropy\"],\"max_features\":[3,4,5,6,7,8]}\n",
    "rfc=RandomForestClassifier()\n",
    "rfc_cv=GridSearchCV(rfc,grid,cv=10)\n",
    "rfc_cv.fit(X_train,y_train)\n",
    "\n",
    "print(\"tuned hpyerparameters :(best parameters) \",rfc_cv.best_params_)\n",
    "print(\"accuracy :\",rfc_cv.best_score_)"
   ]
  },
  {
   "cell_type": "code",
   "execution_count": 83,
   "id": "29368c4b",
   "metadata": {
    "execution": {
     "iopub.execute_input": "2023-03-19T15:35:14.113161Z",
     "iopub.status.busy": "2023-03-19T15:35:14.112458Z",
     "iopub.status.idle": "2023-03-19T15:35:14.156357Z",
     "shell.execute_reply": "2023-03-19T15:35:14.155092Z"
    },
    "papermill": {
     "duration": 0.096432,
     "end_time": "2023-03-19T15:35:14.158997",
     "exception": false,
     "start_time": "2023-03-19T15:35:14.062565",
     "status": "completed"
    },
    "tags": []
   },
   "outputs": [
    {
     "data": {
      "text/plain": [
       "0.770949720670391"
      ]
     },
     "execution_count": 83,
     "metadata": {},
     "output_type": "execute_result"
    }
   ],
   "source": [
    "rfc_best=RandomForestClassifier(n_estimators=15,max_features=5,max_depth=6,criterion=\"gini\")\n",
    "rfc_best.fit(X_train,y_train)\n",
    "y_pred=rfc_best.predict(X_test)\n",
    "rfc_accuracy=accuracy_score(y_test,y_pred)\n",
    "rfc_accuracy"
   ]
  },
  {
   "cell_type": "code",
   "execution_count": 84,
   "id": "807fa253",
   "metadata": {
    "execution": {
     "iopub.execute_input": "2023-03-19T15:35:14.246457Z",
     "iopub.status.busy": "2023-03-19T15:35:14.245755Z",
     "iopub.status.idle": "2023-03-19T15:35:14.525237Z",
     "shell.execute_reply": "2023-03-19T15:35:14.523838Z"
    },
    "papermill": {
     "duration": 0.32677,
     "end_time": "2023-03-19T15:35:14.528051",
     "exception": false,
     "start_time": "2023-03-19T15:35:14.201281",
     "status": "completed"
    },
    "tags": []
   },
   "outputs": [
    {
     "data": {
      "text/plain": [
       "<AxesSubplot:>"
      ]
     },
     "execution_count": 84,
     "metadata": {},
     "output_type": "execute_result"
    },
    {
     "data": {
      "image/png": "[encoded data removed]",
      "text/plain": [
       "<Figure size 700x500 with 2 Axes>"
      ]
     },
     "metadata": {},
     "output_type": "display_data"
    }
   ],
   "source": [
    "cm=confusion_matrix(y_test,y_pred)\n",
    "\n",
    "rfc_df=pd.DataFrame(cm,index=[i for i in [\"0\",\"1\"]],columns=[i for i in [\"Predict 0\",\"Predict 1\"]])\n",
    "\n",
    "plt.figure(figsize=(7,5))\n",
    "sns.heatmap(rfc_df,annot=True)"
   ]
  },
  {
   "cell_type": "code",
   "execution_count": 85,
   "id": "4b8f9c1f",
   "metadata": {
    "execution": {
     "iopub.execute_input": "2023-03-19T15:35:14.616737Z",
     "iopub.status.busy": "2023-03-19T15:35:14.616031Z",
     "iopub.status.idle": "2023-03-19T15:35:14.625664Z",
     "shell.execute_reply": "2023-03-19T15:35:14.624435Z"
    },
    "papermill": {
     "duration": 0.056672,
     "end_time": "2023-03-19T15:35:14.627924",
     "exception": false,
     "start_time": "2023-03-19T15:35:14.571252",
     "status": "completed"
    },
    "tags": []
   },
   "outputs": [
    {
     "data": {
      "text/plain": [
       "array([0.15630035, 0.19566053, 0.01150179, 0.0169435 , 0.11819263,\n",
       "       0.00920575, 0.02362967, 0.46856578])"
      ]
     },
     "execution_count": 85,
     "metadata": {},
     "output_type": "execute_result"
    }
   ],
   "source": [
    "rfc_best.feature_importances_"
   ]
  },
  {
   "cell_type": "code",
   "execution_count": 86,
   "id": "a3e540f0",
   "metadata": {
    "execution": {
     "iopub.execute_input": "2023-03-19T15:35:14.713754Z",
     "iopub.status.busy": "2023-03-19T15:35:14.713031Z",
     "iopub.status.idle": "2023-03-19T15:35:14.731304Z",
     "shell.execute_reply": "2023-03-19T15:35:14.730089Z"
    },
    "papermill": {
     "duration": 0.063973,
     "end_time": "2023-03-19T15:35:14.733642",
     "exception": false,
     "start_time": "2023-03-19T15:35:14.669669",
     "status": "completed"
    },
    "tags": []
   },
   "outputs": [
    {
     "data": {
      "text/html": [
       "<div>\n",
       "<style scoped>\n",
       "    .dataframe tbody tr th:only-of-type {\n",
       "        vertical-align: middle;\n",
       "    }\n",
       "\n",
       "    .dataframe tbody tr th {\n",
       "        vertical-align: top;\n",
       "    }\n",
       "\n",
       "    .dataframe thead th {\n",
       "        text-align: right;\n",
       "    }\n",
       "</style>\n",
       "<table border=\"1\" class=\"dataframe\">\n",
       "  <thead>\n",
       "    <tr style=\"text-align: right;\">\n",
       "      <th></th>\n",
       "      <th>Feature</th>\n",
       "      <th>Importance</th>\n",
       "    </tr>\n",
       "  </thead>\n",
       "  <tbody>\n",
       "    <tr>\n",
       "      <th>7</th>\n",
       "      <td>(Sex_male,)</td>\n",
       "      <td>0.468566</td>\n",
       "    </tr>\n",
       "    <tr>\n",
       "      <th>1</th>\n",
       "      <td>(Fare,)</td>\n",
       "      <td>0.195661</td>\n",
       "    </tr>\n",
       "    <tr>\n",
       "      <th>0</th>\n",
       "      <td>(Age,)</td>\n",
       "      <td>0.156300</td>\n",
       "    </tr>\n",
       "    <tr>\n",
       "      <th>4</th>\n",
       "      <td>(Pclass_3,)</td>\n",
       "      <td>0.118193</td>\n",
       "    </tr>\n",
       "    <tr>\n",
       "      <th>6</th>\n",
       "      <td>(Embarked_S,)</td>\n",
       "      <td>0.023630</td>\n",
       "    </tr>\n",
       "    <tr>\n",
       "      <th>3</th>\n",
       "      <td>(Pclass_2,)</td>\n",
       "      <td>0.016944</td>\n",
       "    </tr>\n",
       "    <tr>\n",
       "      <th>2</th>\n",
       "      <td>(isAlone,)</td>\n",
       "      <td>0.011502</td>\n",
       "    </tr>\n",
       "    <tr>\n",
       "      <th>5</th>\n",
       "      <td>(Embarked_Q,)</td>\n",
       "      <td>0.009206</td>\n",
       "    </tr>\n",
       "  </tbody>\n",
       "</table>\n",
       "</div>"
      ],
      "text/plain": [
       "         Feature  Importance\n",
       "7    (Sex_male,)    0.468566\n",
       "1        (Fare,)    0.195661\n",
       "0         (Age,)    0.156300\n",
       "4    (Pclass_3,)    0.118193\n",
       "6  (Embarked_S,)    0.023630\n",
       "3    (Pclass_2,)    0.016944\n",
       "2     (isAlone,)    0.011502\n",
       "5  (Embarked_Q,)    0.009206"
      ]
     },
     "execution_count": 86,
     "metadata": {},
     "output_type": "execute_result"
    }
   ],
   "source": [
    "pd.concat((pd.DataFrame(X_train.columns,columns=[\"Feature\"])\n",
    "         ,pd.DataFrame(rfc_best.feature_importances_,columns=[\"Importance\"]))\n",
    "         ,axis = 1).sort_values(ascending=False,by=\"Importance\")"
   ]
  },
  {
   "cell_type": "markdown",
   "id": "9df6fb60",
   "metadata": {
    "papermill": {
     "duration": 0.042053,
     "end_time": "2023-03-19T15:35:14.817646",
     "exception": false,
     "start_time": "2023-03-19T15:35:14.775593",
     "status": "completed"
    },
    "tags": []
   },
   "source": [
    "## Solution"
   ]
  },
  {
   "cell_type": "code",
   "execution_count": 87,
   "id": "f6c400cd",
   "metadata": {
    "execution": {
     "iopub.execute_input": "2023-03-19T15:35:14.909288Z",
     "iopub.status.busy": "2023-03-19T15:35:14.908567Z",
     "iopub.status.idle": "2023-03-19T15:35:14.917820Z",
     "shell.execute_reply": "2023-03-19T15:35:14.916706Z"
    },
    "papermill": {
     "duration": 0.05913,
     "end_time": "2023-03-19T15:35:14.920315",
     "exception": false,
     "start_time": "2023-03-19T15:35:14.861185",
     "status": "completed"
    },
    "tags": []
   },
   "outputs": [],
   "source": [
    "all_accuracy=pd.DataFrame({\"Model\":[\"Logistic Regression\",\"Gaussian Naive Bayes\",\"K Nearest Neighbors\",\"Support Vector Machine\",\"Decision Tree\",\"Random Forest\",\"AdaBoost\",\"XGBoost\",\"GradientBoost\"],\n",
    "              \"Accuracy Score\":[round(lr_accuracy*100,2),round(gnb_accuracy*100,2),round(knn_accuracy*100,2),round(svm_accuracy*100,2),round(dtc_accuracy*100,),round(rfc_accuracy*100,2),\n",
    "                                round(abc_accuracy*100,2),round(xgb_accuracy*100,2),round(gbc_accuracy*100,2)]\n",
    "                        }).sort_values(by=\"Accuracy Score\",ascending=False)"
   ]
  },
  {
   "cell_type": "code",
   "execution_count": 88,
   "id": "027f09bd",
   "metadata": {
    "execution": {
     "iopub.execute_input": "2023-03-19T15:35:15.007302Z",
     "iopub.status.busy": "2023-03-19T15:35:15.006626Z",
     "iopub.status.idle": "2023-03-19T15:35:15.018412Z",
     "shell.execute_reply": "2023-03-19T15:35:15.017167Z"
    },
    "papermill": {
     "duration": 0.058142,
     "end_time": "2023-03-19T15:35:15.020792",
     "exception": false,
     "start_time": "2023-03-19T15:35:14.962650",
     "status": "completed"
    },
    "tags": []
   },
   "outputs": [
    {
     "data": {
      "text/html": [
       "<div>\n",
       "<style scoped>\n",
       "    .dataframe tbody tr th:only-of-type {\n",
       "        vertical-align: middle;\n",
       "    }\n",
       "\n",
       "    .dataframe tbody tr th {\n",
       "        vertical-align: top;\n",
       "    }\n",
       "\n",
       "    .dataframe thead th {\n",
       "        text-align: right;\n",
       "    }\n",
       "</style>\n",
       "<table border=\"1\" class=\"dataframe\">\n",
       "  <thead>\n",
       "    <tr style=\"text-align: right;\">\n",
       "      <th></th>\n",
       "      <th>Model</th>\n",
       "      <th>Accuracy Score</th>\n",
       "    </tr>\n",
       "  </thead>\n",
       "  <tbody>\n",
       "    <tr>\n",
       "      <th>8</th>\n",
       "      <td>GradientBoost</td>\n",
       "      <td>78.21</td>\n",
       "    </tr>\n",
       "    <tr>\n",
       "      <th>4</th>\n",
       "      <td>Decision Tree</td>\n",
       "      <td>78.00</td>\n",
       "    </tr>\n",
       "    <tr>\n",
       "      <th>5</th>\n",
       "      <td>Random Forest</td>\n",
       "      <td>77.09</td>\n",
       "    </tr>\n",
       "    <tr>\n",
       "      <th>3</th>\n",
       "      <td>Support Vector Machine</td>\n",
       "      <td>76.54</td>\n",
       "    </tr>\n",
       "    <tr>\n",
       "      <th>7</th>\n",
       "      <td>XGBoost</td>\n",
       "      <td>76.54</td>\n",
       "    </tr>\n",
       "    <tr>\n",
       "      <th>2</th>\n",
       "      <td>K Nearest Neighbors</td>\n",
       "      <td>75.98</td>\n",
       "    </tr>\n",
       "    <tr>\n",
       "      <th>6</th>\n",
       "      <td>AdaBoost</td>\n",
       "      <td>75.42</td>\n",
       "    </tr>\n",
       "    <tr>\n",
       "      <th>0</th>\n",
       "      <td>Logistic Regression</td>\n",
       "      <td>74.86</td>\n",
       "    </tr>\n",
       "    <tr>\n",
       "      <th>1</th>\n",
       "      <td>Gaussian Naive Bayes</td>\n",
       "      <td>73.74</td>\n",
       "    </tr>\n",
       "  </tbody>\n",
       "</table>\n",
       "</div>"
      ],
      "text/plain": [
       "                    Model  Accuracy Score\n",
       "8           GradientBoost           78.21\n",
       "4           Decision Tree           78.00\n",
       "5           Random Forest           77.09\n",
       "3  Support Vector Machine           76.54\n",
       "7                 XGBoost           76.54\n",
       "2     K Nearest Neighbors           75.98\n",
       "6                AdaBoost           75.42\n",
       "0     Logistic Regression           74.86\n",
       "1    Gaussian Naive Bayes           73.74"
      ]
     },
     "execution_count": 88,
     "metadata": {},
     "output_type": "execute_result"
    }
   ],
   "source": [
    "all_accuracy"
   ]
  },
  {
   "cell_type": "markdown",
   "id": "27a23022",
   "metadata": {
    "papermill": {
     "duration": 0.042434,
     "end_time": "2023-03-19T15:35:15.105956",
     "exception": false,
     "start_time": "2023-03-19T15:35:15.063522",
     "status": "completed"
    },
    "tags": []
   },
   "source": [
    "## Prediction for test_data by using Random Forest"
   ]
  },
  {
   "cell_type": "code",
   "execution_count": 89,
   "id": "a23499a1",
   "metadata": {
    "execution": {
     "iopub.execute_input": "2023-03-19T15:35:15.195211Z",
     "iopub.status.busy": "2023-03-19T15:35:15.194342Z",
     "iopub.status.idle": "2023-03-19T15:35:15.204640Z",
     "shell.execute_reply": "2023-03-19T15:35:15.203701Z"
    },
    "papermill": {
     "duration": 0.057527,
     "end_time": "2023-03-19T15:35:15.207341",
     "exception": false,
     "start_time": "2023-03-19T15:35:15.149814",
     "status": "completed"
    },
    "tags": []
   },
   "outputs": [],
   "source": [
    "y_pred_final=rfc_best.predict(test_data)"
   ]
  },
  {
   "cell_type": "code",
   "execution_count": 90,
   "id": "4f054f2f",
   "metadata": {
    "execution": {
     "iopub.execute_input": "2023-03-19T15:35:15.295242Z",
     "iopub.status.busy": "2023-03-19T15:35:15.294390Z",
     "iopub.status.idle": "2023-03-19T15:35:15.300542Z",
     "shell.execute_reply": "2023-03-19T15:35:15.299684Z"
    },
    "papermill": {
     "duration": 0.053126,
     "end_time": "2023-03-19T15:35:15.303037",
     "exception": false,
     "start_time": "2023-03-19T15:35:15.249911",
     "status": "completed"
    },
    "tags": []
   },
   "outputs": [],
   "source": [
    "submission=pd.DataFrame({\n",
    "           \"PassengerId\":test_data_forfinal[\"PassengerId\"],\n",
    "            \"Survived\":y_pred_final\n",
    "})"
   ]
  },
  {
   "cell_type": "code",
   "execution_count": 91,
   "id": "9eece165",
   "metadata": {
    "execution": {
     "iopub.execute_input": "2023-03-19T15:35:15.390220Z",
     "iopub.status.busy": "2023-03-19T15:35:15.389365Z",
     "iopub.status.idle": "2023-03-19T15:35:15.399933Z",
     "shell.execute_reply": "2023-03-19T15:35:15.398722Z"
    },
    "papermill": {
     "duration": 0.057125,
     "end_time": "2023-03-19T15:35:15.402528",
     "exception": false,
     "start_time": "2023-03-19T15:35:15.345403",
     "status": "completed"
    },
    "tags": []
   },
   "outputs": [
    {
     "data": {
      "text/html": [
       "<div>\n",
       "<style scoped>\n",
       "    .dataframe tbody tr th:only-of-type {\n",
       "        vertical-align: middle;\n",
       "    }\n",
       "\n",
       "    .dataframe tbody tr th {\n",
       "        vertical-align: top;\n",
       "    }\n",
       "\n",
       "    .dataframe thead th {\n",
       "        text-align: right;\n",
       "    }\n",
       "</style>\n",
       "<table border=\"1\" class=\"dataframe\">\n",
       "  <thead>\n",
       "    <tr style=\"text-align: right;\">\n",
       "      <th></th>\n",
       "      <th>PassengerId</th>\n",
       "      <th>Survived</th>\n",
       "    </tr>\n",
       "  </thead>\n",
       "  <tbody>\n",
       "    <tr>\n",
       "      <th>0</th>\n",
       "      <td>892</td>\n",
       "      <td>0</td>\n",
       "    </tr>\n",
       "    <tr>\n",
       "      <th>1</th>\n",
       "      <td>893</td>\n",
       "      <td>0</td>\n",
       "    </tr>\n",
       "    <tr>\n",
       "      <th>2</th>\n",
       "      <td>894</td>\n",
       "      <td>0</td>\n",
       "    </tr>\n",
       "    <tr>\n",
       "      <th>3</th>\n",
       "      <td>895</td>\n",
       "      <td>0</td>\n",
       "    </tr>\n",
       "    <tr>\n",
       "      <th>4</th>\n",
       "      <td>896</td>\n",
       "      <td>0</td>\n",
       "    </tr>\n",
       "  </tbody>\n",
       "</table>\n",
       "</div>"
      ],
      "text/plain": [
       "   PassengerId  Survived\n",
       "0          892         0\n",
       "1          893         0\n",
       "2          894         0\n",
       "3          895         0\n",
       "4          896         0"
      ]
     },
     "execution_count": 91,
     "metadata": {},
     "output_type": "execute_result"
    }
   ],
   "source": [
    "submission.head()"
   ]
  },
  {
   "cell_type": "code",
   "execution_count": 92,
   "id": "183b8dfc",
   "metadata": {
    "execution": {
     "iopub.execute_input": "2023-03-19T15:35:15.490044Z",
     "iopub.status.busy": "2023-03-19T15:35:15.489172Z",
     "iopub.status.idle": "2023-03-19T15:35:15.501535Z",
     "shell.execute_reply": "2023-03-19T15:35:15.500236Z"
    },
    "papermill": {
     "duration": 0.059011,
     "end_time": "2023-03-19T15:35:15.504193",
     "exception": false,
     "start_time": "2023-03-19T15:35:15.445182",
     "status": "completed"
    },
    "tags": []
   },
   "outputs": [],
   "source": [
    "submission.to_csv(\"submission.csv\", index=False)"
   ]
  }
 ],
 "metadata": {
  "kernelspec": {
   "display_name": "Python 3 (ipykernel)",
   "language": "python",
   "name": "python3"
  },
  "language_info": {
   "codemirror_mode": {
    "name": "ipython",
    "version": 3
   },
   "file_extension": ".py",
   "mimetype": "text/x-python",
   "name": "python",
   "nbconvert_exporter": "python",
   "pygments_lexer": "ipython3",
   "version": "3.9.13"
  },
  "papermill": {
   "default_parameters": {},
   "duration": 334.628447,
   "end_time": "2023-03-19T15:35:16.470138",
   "environment_variables": {},
   "exception": null,
   "input_path": "__notebook__.ipynb",
   "output_path": "__notebook__.ipynb",
   "parameters": {},
   "start_time": "2023-03-19T15:29:41.841691",
   "version": "2.4.0"
  }
 },
 "nbformat": 4,
 "nbformat_minor": 5
}
